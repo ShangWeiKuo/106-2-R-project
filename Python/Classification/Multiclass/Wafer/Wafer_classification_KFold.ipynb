{
  "nbformat": 4,
  "nbformat_minor": 0,
  "metadata": {
    "colab": {
      "name": "Wafer classification_KFold.ipynb",
      "provenance": [],
      "collapsed_sections": [],
      "mount_file_id": "1Ldi_OngTUlYZXvxadxxKx0qhf0e8zUd6",
      "authorship_tag": "ABX9TyPCrOc4URZPAtfR4HpMnxLW",
      "include_colab_link": true
    },
    "kernelspec": {
      "name": "python3",
      "display_name": "Python 3"
    },
    "language_info": {
      "name": "python"
    }
  },
  "cells": [
    {
      "cell_type": "markdown",
      "metadata": {
        "id": "view-in-github",
        "colab_type": "text"
      },
      "source": [
        "<a href=\"https://colab.research.google.com/github/ShangWeiKuo/106-2-R-project/blob/master/Python/Classification/Multiclass/Wafer/Wafer_classification_KFold.ipynb\" target=\"_parent\"><img src=\"https://colab.research.google.com/assets/colab-badge.svg\" alt=\"Open In Colab\"/></a>"
      ]
    },
    {
      "cell_type": "code",
      "metadata": {
        "colab": {
          "base_uri": "https://localhost:8080/"
        },
        "id": "cAk1dxOcQP9t",
        "outputId": "0377c783-46e2-4496-8a87-02d8ecc9627e"
      },
      "source": [
        "!pip install scikit-plot"
      ],
      "execution_count": 1,
      "outputs": [
        {
          "output_type": "stream",
          "name": "stdout",
          "text": [
            "Collecting scikit-plot\n",
            "  Downloading scikit_plot-0.3.7-py3-none-any.whl (33 kB)\n",
            "Requirement already satisfied: matplotlib>=1.4.0 in /usr/local/lib/python3.7/dist-packages (from scikit-plot) (3.2.2)\n",
            "Requirement already satisfied: scikit-learn>=0.18 in /usr/local/lib/python3.7/dist-packages (from scikit-plot) (0.22.2.post1)\n",
            "Requirement already satisfied: scipy>=0.9 in /usr/local/lib/python3.7/dist-packages (from scikit-plot) (1.4.1)\n",
            "Requirement already satisfied: joblib>=0.10 in /usr/local/lib/python3.7/dist-packages (from scikit-plot) (1.0.1)\n",
            "Requirement already satisfied: python-dateutil>=2.1 in /usr/local/lib/python3.7/dist-packages (from matplotlib>=1.4.0->scikit-plot) (2.8.2)\n",
            "Requirement already satisfied: cycler>=0.10 in /usr/local/lib/python3.7/dist-packages (from matplotlib>=1.4.0->scikit-plot) (0.10.0)\n",
            "Requirement already satisfied: kiwisolver>=1.0.1 in /usr/local/lib/python3.7/dist-packages (from matplotlib>=1.4.0->scikit-plot) (1.3.1)\n",
            "Requirement already satisfied: pyparsing!=2.0.4,!=2.1.2,!=2.1.6,>=2.0.1 in /usr/local/lib/python3.7/dist-packages (from matplotlib>=1.4.0->scikit-plot) (2.4.7)\n",
            "Requirement already satisfied: numpy>=1.11 in /usr/local/lib/python3.7/dist-packages (from matplotlib>=1.4.0->scikit-plot) (1.19.5)\n",
            "Requirement already satisfied: six in /usr/local/lib/python3.7/dist-packages (from cycler>=0.10->matplotlib>=1.4.0->scikit-plot) (1.15.0)\n",
            "Installing collected packages: scikit-plot\n",
            "Successfully installed scikit-plot-0.3.7\n"
          ]
        }
      ]
    },
    {
      "cell_type": "code",
      "metadata": {
        "id": "QY_wZLdo_EWa",
        "colab": {
          "base_uri": "https://localhost:8080/"
        },
        "outputId": "f1af33d5-d7b4-445b-9bbf-eac4ebcf172f"
      },
      "source": [
        "# loading libraries\n",
        "import numpy as np # linear algebra\n",
        "from numpy import argmax\n",
        "import pandas as pd # data processing, CSV file I/O (e.g. pd.read_csv)\n",
        "import tensorflow as tf\n",
        "from sklearn.model_selection import train_test_split\n",
        "import matplotlib.pyplot as plt\n",
        "import scikitplot as skplt\n",
        "%matplotlib inline \n",
        "\n",
        "from keras.wrappers.scikit_learn import KerasClassifier \n",
        "from sklearn.model_selection import KFold \n",
        "from sklearn.model_selection import cross_val_score\n",
        "from keras.utils.np_utils import to_categorical\n",
        "from keras import layers, Input, models\n",
        "from keras.models import Model, Sequential, Input, load_model\n",
        "from keras.layers import Dense, Dropout, Flatten, Conv2D, MaxPool2D, AveragePooling2D, GlobalAveragePooling2D\n",
        "from tensorflow.keras.optimizers import Adam\n",
        "from keras.preprocessing.image import ImageDataGenerator\n",
        "from keras.callbacks import ModelCheckpoint, ReduceLROnPlateau, EarlyStopping\n",
        "from sklearn.metrics import classification_report\n",
        "\n",
        "import cv2\n",
        "from skimage import measure\n",
        "from scipy import stats\n",
        "\n",
        "import os\n",
        "# set current working directory\n",
        "path=\"/content/drive/MyDrive/wafer/\"\n",
        "os.chdir(path)\n",
        "\n",
        "print(os.listdir(path))\n",
        "\n",
        "import warnings\n",
        "warnings.filterwarnings(\"ignore\")"
      ],
      "execution_count": 2,
      "outputs": [
        {
          "output_type": "stream",
          "name": "stdout",
          "text": [
            "['LSWMD.pkl', 'wafer.zip', 'Untitled1.ipynb', 'wafer-defect-classification-by-deep-learning.ipynb', 'Wafer detection.ipynb', 'Wafer anomaly detection.ipynb', 'Wafer anomaly detection_AutoEncoder.ipynb', 'Wafer classification_Densenet201.ipynb', 'Wafer classification_KFold.ipynb', 'wafer_detection_densenet_model.h5']\n"
          ]
        }
      ]
    },
    {
      "cell_type": "code",
      "metadata": {
        "id": "n3AtLkn-_JeV",
        "colab": {
          "base_uri": "https://localhost:8080/"
        },
        "outputId": "36b9c32e-3cf6-47ac-9b78-f2c1c6678a38"
      },
      "source": [
        "df=pd.read_pickle(\"LSWMD.pkl\")\n",
        "df.info()"
      ],
      "execution_count": 3,
      "outputs": [
        {
          "output_type": "stream",
          "name": "stdout",
          "text": [
            "<class 'pandas.core.frame.DataFrame'>\n",
            "RangeIndex: 811457 entries, 0 to 811456\n",
            "Data columns (total 6 columns):\n",
            " #   Column          Non-Null Count   Dtype  \n",
            "---  ------          --------------   -----  \n",
            " 0   waferMap        811457 non-null  object \n",
            " 1   dieSize         811457 non-null  float64\n",
            " 2   lotName         811457 non-null  object \n",
            " 3   waferIndex      811457 non-null  float64\n",
            " 4   trianTestLabel  811457 non-null  object \n",
            " 5   failureType     811457 non-null  object \n",
            "dtypes: float64(2), object(4)\n",
            "memory usage: 37.1+ MB\n"
          ]
        }
      ]
    },
    {
      "cell_type": "code",
      "metadata": {
        "id": "eUXgFuX2o1xW"
      },
      "source": [
        "df['waferIndex']\n",
        "df = df.drop(['waferIndex'], axis = 1)"
      ],
      "execution_count": 4,
      "outputs": []
    },
    {
      "cell_type": "code",
      "metadata": {
        "id": "17YDb1YUo2NI",
        "colab": {
          "base_uri": "https://localhost:8080/",
          "height": 377
        },
        "outputId": "f4aee955-dbad-4d2b-d3b4-619211eff310"
      },
      "source": [
        "def find_dim(x):\n",
        "    dim0=np.size(x,axis=0)\n",
        "    dim1=np.size(x,axis=1)\n",
        "    return dim0,dim1\n",
        "df['waferMapDim']=df.waferMap.apply(find_dim)\n",
        "df.sample(5)"
      ],
      "execution_count": 5,
      "outputs": [
        {
          "output_type": "execute_result",
          "data": {
            "text/html": [
              "<div>\n",
              "<style scoped>\n",
              "    .dataframe tbody tr th:only-of-type {\n",
              "        vertical-align: middle;\n",
              "    }\n",
              "\n",
              "    .dataframe tbody tr th {\n",
              "        vertical-align: top;\n",
              "    }\n",
              "\n",
              "    .dataframe thead th {\n",
              "        text-align: right;\n",
              "    }\n",
              "</style>\n",
              "<table border=\"1\" class=\"dataframe\">\n",
              "  <thead>\n",
              "    <tr style=\"text-align: right;\">\n",
              "      <th></th>\n",
              "      <th>waferMap</th>\n",
              "      <th>dieSize</th>\n",
              "      <th>lotName</th>\n",
              "      <th>trianTestLabel</th>\n",
              "      <th>failureType</th>\n",
              "      <th>waferMapDim</th>\n",
              "    </tr>\n",
              "  </thead>\n",
              "  <tbody>\n",
              "    <tr>\n",
              "      <th>390167</th>\n",
              "      <td>[[0, 0, 0, 0, 0, 0, 0, 0, 0, 0, 0, 0, 0, 0, 0,...</td>\n",
              "      <td>4423.0</td>\n",
              "      <td>lot23424</td>\n",
              "      <td>[]</td>\n",
              "      <td>[]</td>\n",
              "      <td>(74, 76)</td>\n",
              "    </tr>\n",
              "    <tr>\n",
              "      <th>599248</th>\n",
              "      <td>[[0, 0, 0, 0, 0, 0, 0, 0, 0, 0, 0, 0, 0, 0, 0,...</td>\n",
              "      <td>1513.0</td>\n",
              "      <td>lot37638</td>\n",
              "      <td>[]</td>\n",
              "      <td>[]</td>\n",
              "      <td>(49, 39)</td>\n",
              "    </tr>\n",
              "    <tr>\n",
              "      <th>233033</th>\n",
              "      <td>[[0, 0, 0, 0, 0, 0, 0, 0, 0, 0, 0, 0, 0, 0, 0,...</td>\n",
              "      <td>7810.0</td>\n",
              "      <td>lot14586</td>\n",
              "      <td>[]</td>\n",
              "      <td>[]</td>\n",
              "      <td>(89, 112)</td>\n",
              "    </tr>\n",
              "    <tr>\n",
              "      <th>349869</th>\n",
              "      <td>[[0, 0, 0, 0, 0, 0, 0, 0, 0, 0, 0, 0, 0, 0, 0,...</td>\n",
              "      <td>5532.0</td>\n",
              "      <td>lot20884</td>\n",
              "      <td>[]</td>\n",
              "      <td>[]</td>\n",
              "      <td>(60, 119)</td>\n",
              "    </tr>\n",
              "    <tr>\n",
              "      <th>596601</th>\n",
              "      <td>[[0, 0, 0, 0, 0, 0, 0, 0, 0, 0, 0, 0, 0, 0, 0,...</td>\n",
              "      <td>1513.0</td>\n",
              "      <td>lot37391</td>\n",
              "      <td>[]</td>\n",
              "      <td>[]</td>\n",
              "      <td>(49, 39)</td>\n",
              "    </tr>\n",
              "  </tbody>\n",
              "</table>\n",
              "</div>"
            ],
            "text/plain": [
              "                                                 waferMap  ...  waferMapDim\n",
              "390167  [[0, 0, 0, 0, 0, 0, 0, 0, 0, 0, 0, 0, 0, 0, 0,...  ...     (74, 76)\n",
              "599248  [[0, 0, 0, 0, 0, 0, 0, 0, 0, 0, 0, 0, 0, 0, 0,...  ...     (49, 39)\n",
              "233033  [[0, 0, 0, 0, 0, 0, 0, 0, 0, 0, 0, 0, 0, 0, 0,...  ...    (89, 112)\n",
              "349869  [[0, 0, 0, 0, 0, 0, 0, 0, 0, 0, 0, 0, 0, 0, 0,...  ...    (60, 119)\n",
              "596601  [[0, 0, 0, 0, 0, 0, 0, 0, 0, 0, 0, 0, 0, 0, 0,...  ...     (49, 39)\n",
              "\n",
              "[5 rows x 6 columns]"
            ]
          },
          "metadata": {},
          "execution_count": 5
        }
      ]
    },
    {
      "cell_type": "code",
      "metadata": {
        "id": "b8eC9hVyo9x_"
      },
      "source": [
        "df['failureNum']=df.failureType\n",
        "df['trainTestNum']=df.trianTestLabel\n",
        "mapping_type={'Center':0,'Donut':1,'Edge-Loc':2,'Edge-Ring':3,'Loc':4,'Random':5,'Scratch':6,'Near-full':7,'none':8}\n",
        "mapping_traintest={'Training':0,'Test':1}\n",
        "df=df.replace({'failureNum':mapping_type, 'trainTestNum':mapping_traintest})"
      ],
      "execution_count": 6,
      "outputs": []
    },
    {
      "cell_type": "code",
      "metadata": {
        "id": "bSGIdtYIOOiq"
      },
      "source": [
        "df_withpattern = df[(df['failureNum']>=0) & (df['failureNum']<=7)]\n",
        "df_withpattern = df_withpattern.reset_index()\n",
        "df_withpattern = df_withpattern.drop(columns=['dieSize', 'lotName'])"
      ],
      "execution_count": 7,
      "outputs": []
    },
    {
      "cell_type": "code",
      "metadata": {
        "id": "1jTvNxgxhaKE",
        "colab": {
          "base_uri": "https://localhost:8080/",
          "height": 267
        },
        "outputId": "5a3a00fa-67a2-4855-834c-1be41324e9ce"
      },
      "source": [
        "plt.imshow(df_withpattern.waferMap[0])\n",
        "plt.show()"
      ],
      "execution_count": 8,
      "outputs": [
        {
          "output_type": "display_data",
          "data": {
            "image/png": "[encoded data removed]",
            "text/plain": [
              "<Figure size 432x288 with 1 Axes>"
            ]
          },
          "metadata": {
            "needs_background": "light"
          }
        }
      ]
    },
    {
      "cell_type": "code",
      "metadata": {
        "id": "7kW8omZXulz-"
      },
      "source": [
        "train_set = df_withpattern[df_withpattern['trianTestLabel'] == 'Training']\n",
        "X_train = train_set['waferMap'].values\n",
        "y_train = np.array(train_set['failureNum']).astype('float32')\n",
        "y_train = to_categorical(y_train, num_classes=8)"
      ],
      "execution_count": 32,
      "outputs": []
    },
    {
      "cell_type": "code",
      "metadata": {
        "id": "SJI3W0MZM8cv"
      },
      "source": [
        "X_train = train_set['waferMap']\n",
        "y_train = np.array(train_set['failureNum']).astype('float32')\n",
        "y_train = to_categorical(y_train, num_classes=8)"
      ],
      "execution_count": 33,
      "outputs": []
    },
    {
      "cell_type": "code",
      "metadata": {
        "id": "80aj-Fl9Tn06"
      },
      "source": [
        "X_train = np.array([cv2.resize(img, dsize=(26,26)) for img in X_train])"
      ],
      "execution_count": 34,
      "outputs": []
    },
    {
      "cell_type": "code",
      "metadata": {
        "colab": {
          "base_uri": "https://localhost:8080/",
          "height": 265
        },
        "id": "FIUn3nsmNwEC",
        "outputId": "b2a13822-1140-40cb-d5b7-e1cbfd6940b3"
      },
      "source": [
        "plt.imshow(X_train[0])\n",
        "plt.show()"
      ],
      "execution_count": 35,
      "outputs": [
        {
          "output_type": "display_data",
          "data": {
            "image/png": "[encoded data removed]",
            "text/plain": [
              "<Figure size 432x288 with 1 Axes>"
            ]
          },
          "metadata": {
            "needs_background": "light"
          }
        }
      ]
    },
    {
      "cell_type": "code",
      "metadata": {
        "colab": {
          "base_uri": "https://localhost:8080/",
          "height": 266
        },
        "id": "YH8CQfp6NvW-",
        "outputId": "17bedc8b-0ceb-4438-80b2-d6d9969c2e0c"
      },
      "source": [
        "plt.imshow(cv2.medianBlur(X_train[0], 3))\n",
        "plt.show()"
      ],
      "execution_count": 13,
      "outputs": [
        {
          "output_type": "display_data",
          "data": {
            "image/png": "[encoded data removed]",
            "text/plain": [
              "<Figure size 432x288 with 1 Axes>"
            ]
          },
          "metadata": {
            "needs_background": "light"
          }
        }
      ]
    },
    {
      "cell_type": "code",
      "metadata": {
        "id": "rOH1OBNGE-c_"
      },
      "source": [
        "X_train = X_train.reshape((-1, 26, 26, 1))"
      ],
      "execution_count": 36,
      "outputs": []
    },
    {
      "cell_type": "code",
      "metadata": {
        "id": "s23MjN3hw7ve"
      },
      "source": [
        "new_X_train = np.zeros((len(X_train), 26, 26, 3))\n",
        "\n",
        "for w in range(len(X_train)):\n",
        "    for i in range(26):\n",
        "        for j in range(26):\n",
        "            new_X_train[w, i, j, int(X_train[w, i, j])] = 1"
      ],
      "execution_count": 37,
      "outputs": []
    },
    {
      "cell_type": "code",
      "metadata": {
        "id": "6wncfJtkBlu5"
      },
      "source": [
        "# Conversion to float\n",
        "new_X_train = new_X_train.astype('float32')"
      ],
      "execution_count": 38,
      "outputs": []
    },
    {
      "cell_type": "code",
      "metadata": {
        "colab": {
          "base_uri": "https://localhost:8080/",
          "height": 266
        },
        "id": "NPka1VfbDlnK",
        "outputId": "69d346aa-4936-4a78-942a-cc5d45ba5bcf"
      },
      "source": [
        "plt.imshow(new_X_train[0])\n",
        "plt.show()"
      ],
      "execution_count": 17,
      "outputs": [
        {
          "output_type": "display_data",
          "data": {
            "image/png": "[encoded data removed]",
            "text/plain": [
              "<Figure size 432x288 with 1 Axes>"
            ]
          },
          "metadata": {
            "needs_background": "light"
          }
        }
      ]
    },
    {
      "cell_type": "code",
      "metadata": {
        "colab": {
          "base_uri": "https://localhost:8080/",
          "height": 266
        },
        "id": "d7sVMnaLPh-j",
        "outputId": "667bddb5-29cb-49be-d8b4-17abb69ed2e8"
      },
      "source": [
        "plt.imshow(cv2.medianBlur(new_X_train[0], 3))\n",
        "plt.show()"
      ],
      "execution_count": 18,
      "outputs": [
        {
          "output_type": "display_data",
          "data": {
            "image/png": "[encoded data removed]",
            "text/plain": [
              "<Figure size 432x288 with 1 Axes>"
            ]
          },
          "metadata": {
            "needs_background": "light"
          }
        }
      ]
    },
    {
      "cell_type": "code",
      "metadata": {
        "colab": {
          "base_uri": "https://localhost:8080/",
          "height": 266
        },
        "id": "NrFUemiUDsle",
        "outputId": "ab9585bf-f7cf-4497-8c8d-8f95cd34048e"
      },
      "source": [
        "plt.imshow(new_X_train[train_set['failureNum']==0][0])\n",
        "plt.show()"
      ],
      "execution_count": 19,
      "outputs": [
        {
          "output_type": "display_data",
          "data": {
            "image/png": "[encoded data removed]",
            "text/plain": [
              "<Figure size 432x288 with 1 Axes>"
            ]
          },
          "metadata": {
            "needs_background": "light"
          }
        }
      ]
    },
    {
      "cell_type": "code",
      "metadata": {
        "colab": {
          "base_uri": "https://localhost:8080/",
          "height": 266
        },
        "id": "EgLxz2n0Prki",
        "outputId": "fb28aefa-0152-4987-f549-bdf915240aa1"
      },
      "source": [
        "plt.imshow(cv2.medianBlur(new_X_train[train_set['failureNum']==0][0], 3))\n",
        "plt.show()"
      ],
      "execution_count": 20,
      "outputs": [
        {
          "output_type": "display_data",
          "data": {
            "image/png": "[encoded data removed]",
            "text/plain": [
              "<Figure size 432x288 with 1 Axes>"
            ]
          },
          "metadata": {
            "needs_background": "light"
          }
        }
      ]
    },
    {
      "cell_type": "code",
      "metadata": {
        "id": "IAfOE7sLU6PR"
      },
      "source": [
        "X_train_copy = [ ]\n",
        "\n",
        "for i in range(new_X_train.shape[0]):\n",
        "  img = cv2.medianBlur(new_X_train[i], 3)\n",
        "  X_train_copy.append(img)\n",
        "\n",
        "X_train_copy = np.array(X_train_copy)"
      ],
      "execution_count": 39,
      "outputs": []
    },
    {
      "cell_type": "code",
      "metadata": {
        "colab": {
          "base_uri": "https://localhost:8080/",
          "height": 266
        },
        "id": "SZtmYKzjXqzE",
        "outputId": "d6b1f462-ba84-4d99-b88a-92326a325369"
      },
      "source": [
        "plt.imshow(X_train_copy[0])\n",
        "plt.show()"
      ],
      "execution_count": 22,
      "outputs": [
        {
          "output_type": "display_data",
          "data": {
            "image/png": "[encoded data removed]",
            "text/plain": [
              "<Figure size 432x288 with 1 Axes>"
            ]
          },
          "metadata": {
            "needs_background": "light"
          }
        }
      ]
    },
    {
      "cell_type": "code",
      "metadata": {
        "colab": {
          "base_uri": "https://localhost:8080/",
          "height": 266
        },
        "id": "43ZpvqbuVO8z",
        "outputId": "c53c0756-aead-4163-8898-ba65b83f2a17"
      },
      "source": [
        "plt.imshow(X_train_copy[train_set['failureNum']==0][0])\n",
        "plt.show()"
      ],
      "execution_count": 23,
      "outputs": [
        {
          "output_type": "display_data",
          "data": {
            "image/png": "[encoded data removed]",
            "text/plain": [
              "<Figure size 432x288 with 1 Axes>"
            ]
          },
          "metadata": {
            "needs_background": "light"
          }
        }
      ]
    },
    {
      "cell_type": "code",
      "metadata": {
        "id": "OecM7mxT2Tu0"
      },
      "source": [
        "X_train, X_val, y_train, y_val = train_test_split(X_train_copy, y_train, test_size=0.2, random_state=2021)"
      ],
      "execution_count": 40,
      "outputs": []
    },
    {
      "cell_type": "code",
      "metadata": {
        "id": "uR5Zhb4aDAts"
      },
      "source": [
        "def create_model():\n",
        "    input_shape = (26, 26, 3)\n",
        "    input_tensor = Input(input_shape)\n",
        "\n",
        "    conv_1 = layers.Conv2D(16, (3,3), activation='relu', padding='same')(input_tensor)\n",
        "    conv_2 = layers.Conv2D(64, (3,3), activation='relu', padding='same')(conv_1)\n",
        "    conv_3 = layers.Conv2D(128, (3,3), activation='relu', padding='same')(conv_2)\n",
        "\n",
        "    flat = layers.Flatten()(conv_3)\n",
        "\n",
        "    dense_1 = layers.Dense(512, activation='relu')(flat)\n",
        "    dense_2 = layers.Dense(128, activation='relu')(dense_1)\n",
        "    output_tensor = layers.Dense(8, activation='softmax')(dense_2)\n",
        "\n",
        "    model = models.Model(input_tensor, output_tensor)\n",
        "    model.compile(optimizer='Adam',\n",
        "                 loss='categorical_crossentropy',\n",
        "                 metrics=['accuracy'])\n",
        "\n",
        "    return model"
      ],
      "execution_count": 41,
      "outputs": []
    },
    {
      "cell_type": "code",
      "metadata": {
        "id": "BVCy21nf3fai",
        "colab": {
          "base_uri": "https://localhost:8080/"
        },
        "outputId": "7ab4c0a4-1400-49a5-e951-5c6f6d3234e0"
      },
      "source": [
        "model = KerasClassifier(build_fn=create_model, epochs=30, batch_size=1024, verbose=2) \n",
        "# 3-Fold Crossvalidation\n",
        "kfold = KFold(n_splits=3, shuffle=True, random_state=2021) \n",
        "results = cross_val_score(model, X_train, y_train, cv=kfold)\n",
        "# Check 3-fold model's mean accuracy\n",
        "print('Simple CNN Cross validation score : {:.4f}'.format(np.mean(results)))"
      ],
      "execution_count": 42,
      "outputs": [
        {
          "output_type": "stream",
          "name": "stdout",
          "text": [
            "Epoch 1/30\n",
            "10/10 - 117s - loss: 2.9140 - accuracy: 0.3672\n",
            "Epoch 2/30\n",
            "10/10 - 116s - loss: 0.9535 - accuracy: 0.7041\n",
            "Epoch 3/30\n",
            "10/10 - 116s - loss: 0.5968 - accuracy: 0.7982\n",
            "Epoch 4/30\n",
            "10/10 - 116s - loss: 0.4280 - accuracy: 0.8495\n",
            "Epoch 5/30\n",
            "10/10 - 115s - loss: 0.3136 - accuracy: 0.8880\n",
            "Epoch 6/30\n",
            "10/10 - 115s - loss: 0.2592 - accuracy: 0.9046\n",
            "Epoch 7/30\n",
            "10/10 - 116s - loss: 0.2225 - accuracy: 0.9181\n",
            "Epoch 8/30\n",
            "10/10 - 115s - loss: 0.2019 - accuracy: 0.9267\n",
            "Epoch 9/30\n",
            "10/10 - 115s - loss: 0.1764 - accuracy: 0.9345\n",
            "Epoch 10/30\n",
            "10/10 - 116s - loss: 0.1687 - accuracy: 0.9377\n",
            "Epoch 11/30\n",
            "10/10 - 116s - loss: 0.1533 - accuracy: 0.9422\n",
            "Epoch 12/30\n",
            "10/10 - 117s - loss: 0.1458 - accuracy: 0.9437\n",
            "Epoch 13/30\n",
            "10/10 - 116s - loss: 0.1359 - accuracy: 0.9494\n",
            "Epoch 14/30\n",
            "10/10 - 116s - loss: 0.1268 - accuracy: 0.9528\n",
            "Epoch 15/30\n",
            "10/10 - 116s - loss: 0.1233 - accuracy: 0.9546\n",
            "Epoch 16/30\n",
            "10/10 - 116s - loss: 0.1096 - accuracy: 0.9597\n",
            "Epoch 17/30\n",
            "10/10 - 117s - loss: 0.1042 - accuracy: 0.9606\n",
            "Epoch 18/30\n",
            "10/10 - 120s - loss: 0.0976 - accuracy: 0.9663\n",
            "Epoch 19/30\n",
            "10/10 - 119s - loss: 0.0915 - accuracy: 0.9666\n",
            "Epoch 20/30\n",
            "10/10 - 118s - loss: 0.0841 - accuracy: 0.9700\n",
            "Epoch 21/30\n",
            "10/10 - 118s - loss: 0.0806 - accuracy: 0.9693\n",
            "Epoch 22/30\n",
            "10/10 - 118s - loss: 0.0790 - accuracy: 0.9700\n",
            "Epoch 23/30\n",
            "10/10 - 118s - loss: 0.0810 - accuracy: 0.9697\n",
            "Epoch 24/30\n",
            "10/10 - 117s - loss: 0.0699 - accuracy: 0.9744\n",
            "Epoch 25/30\n",
            "10/10 - 117s - loss: 0.0677 - accuracy: 0.9746\n",
            "Epoch 26/30\n",
            "10/10 - 118s - loss: 0.0649 - accuracy: 0.9764\n",
            "Epoch 27/30\n",
            "10/10 - 118s - loss: 0.0592 - accuracy: 0.9796\n",
            "Epoch 28/30\n",
            "10/10 - 117s - loss: 0.0583 - accuracy: 0.9789\n",
            "Epoch 29/30\n",
            "10/10 - 117s - loss: 0.0564 - accuracy: 0.9783\n",
            "Epoch 30/30\n",
            "10/10 - 117s - loss: 0.0514 - accuracy: 0.9813\n",
            "5/5 - 16s - loss: 0.3521 - accuracy: 0.9185\n",
            "Epoch 1/30\n",
            "10/10 - 118s - loss: 2.0963 - accuracy: 0.4576\n",
            "Epoch 2/30\n",
            "10/10 - 117s - loss: 0.7279 - accuracy: 0.7685\n",
            "Epoch 3/30\n",
            "10/10 - 118s - loss: 0.4722 - accuracy: 0.8302\n",
            "Epoch 4/30\n",
            "10/10 - 118s - loss: 0.3323 - accuracy: 0.8799\n",
            "Epoch 5/30\n",
            "10/10 - 117s - loss: 0.2727 - accuracy: 0.8974\n",
            "Epoch 6/30\n",
            "10/10 - 117s - loss: 0.2446 - accuracy: 0.9083\n",
            "Epoch 7/30\n",
            "10/10 - 117s - loss: 0.2075 - accuracy: 0.9177\n",
            "Epoch 8/30\n",
            "10/10 - 117s - loss: 0.1819 - accuracy: 0.9302\n",
            "Epoch 9/30\n",
            "10/10 - 116s - loss: 0.1584 - accuracy: 0.9403\n",
            "Epoch 10/30\n",
            "10/10 - 116s - loss: 0.1511 - accuracy: 0.9420\n",
            "Epoch 11/30\n",
            "10/10 - 117s - loss: 0.1420 - accuracy: 0.9447\n",
            "Epoch 12/30\n",
            "10/10 - 116s - loss: 0.1367 - accuracy: 0.9495\n",
            "Epoch 13/30\n",
            "10/10 - 115s - loss: 0.1195 - accuracy: 0.9548\n",
            "Epoch 14/30\n",
            "10/10 - 115s - loss: 0.1153 - accuracy: 0.9553\n",
            "Epoch 15/30\n",
            "10/10 - 115s - loss: 0.1093 - accuracy: 0.9601\n",
            "Epoch 16/30\n",
            "10/10 - 115s - loss: 0.1006 - accuracy: 0.9614\n",
            "Epoch 17/30\n",
            "10/10 - 115s - loss: 0.0872 - accuracy: 0.9693\n",
            "Epoch 18/30\n",
            "10/10 - 115s - loss: 0.0859 - accuracy: 0.9679\n",
            "Epoch 19/30\n",
            "10/10 - 115s - loss: 0.0792 - accuracy: 0.9704\n",
            "Epoch 20/30\n",
            "10/10 - 117s - loss: 0.0782 - accuracy: 0.9719\n",
            "Epoch 21/30\n",
            "10/10 - 115s - loss: 0.0717 - accuracy: 0.9740\n",
            "Epoch 22/30\n",
            "10/10 - 115s - loss: 0.0634 - accuracy: 0.9776\n",
            "Epoch 23/30\n",
            "10/10 - 115s - loss: 0.0596 - accuracy: 0.9799\n",
            "Epoch 24/30\n",
            "10/10 - 115s - loss: 0.0595 - accuracy: 0.9779\n",
            "Epoch 25/30\n",
            "10/10 - 115s - loss: 0.0609 - accuracy: 0.9786\n",
            "Epoch 26/30\n",
            "10/10 - 115s - loss: 0.0587 - accuracy: 0.9797\n",
            "Epoch 27/30\n",
            "10/10 - 115s - loss: 0.0546 - accuracy: 0.9803\n",
            "Epoch 28/30\n",
            "10/10 - 115s - loss: 0.0522 - accuracy: 0.9804\n",
            "Epoch 29/30\n",
            "10/10 - 115s - loss: 0.0491 - accuracy: 0.9831\n",
            "Epoch 30/30\n",
            "10/10 - 115s - loss: 0.0487 - accuracy: 0.9826\n",
            "5/5 - 15s - loss: 0.3298 - accuracy: 0.9230\n",
            "Epoch 1/30\n",
            "10/10 - 117s - loss: 2.4413 - accuracy: 0.3791\n",
            "Epoch 2/30\n",
            "10/10 - 116s - loss: 0.9324 - accuracy: 0.7094\n",
            "Epoch 3/30\n",
            "10/10 - 115s - loss: 0.6598 - accuracy: 0.7890\n",
            "Epoch 4/30\n",
            "10/10 - 116s - loss: 0.5104 - accuracy: 0.8322\n",
            "Epoch 5/30\n",
            "10/10 - 116s - loss: 0.3885 - accuracy: 0.8638\n",
            "Epoch 6/30\n",
            "10/10 - 116s - loss: 0.3127 - accuracy: 0.8877\n",
            "Epoch 7/30\n",
            "10/10 - 116s - loss: 0.2585 - accuracy: 0.9059\n",
            "Epoch 8/30\n",
            "10/10 - 117s - loss: 0.2194 - accuracy: 0.9178\n",
            "Epoch 9/30\n",
            "10/10 - 117s - loss: 0.1971 - accuracy: 0.9238\n",
            "Epoch 10/30\n",
            "10/10 - 116s - loss: 0.1755 - accuracy: 0.9326\n",
            "Epoch 11/30\n",
            "10/10 - 115s - loss: 0.1562 - accuracy: 0.9398\n",
            "Epoch 12/30\n",
            "10/10 - 115s - loss: 0.1375 - accuracy: 0.9484\n",
            "Epoch 13/30\n",
            "10/10 - 115s - loss: 0.1259 - accuracy: 0.9531\n",
            "Epoch 14/30\n",
            "10/10 - 115s - loss: 0.1318 - accuracy: 0.9505\n",
            "Epoch 15/30\n",
            "10/10 - 117s - loss: 0.1138 - accuracy: 0.9581\n",
            "Epoch 16/30\n",
            "10/10 - 115s - loss: 0.1094 - accuracy: 0.9593\n",
            "Epoch 17/30\n",
            "10/10 - 116s - loss: 0.0940 - accuracy: 0.9654\n",
            "Epoch 18/30\n",
            "10/10 - 116s - loss: 0.0911 - accuracy: 0.9656\n",
            "Epoch 19/30\n",
            "10/10 - 116s - loss: 0.0847 - accuracy: 0.9681\n",
            "Epoch 20/30\n",
            "10/10 - 117s - loss: 0.0789 - accuracy: 0.9698\n",
            "Epoch 21/30\n",
            "10/10 - 116s - loss: 0.0710 - accuracy: 0.9752\n",
            "Epoch 22/30\n",
            "10/10 - 120s - loss: 0.0680 - accuracy: 0.9755\n",
            "Epoch 23/30\n",
            "10/10 - 118s - loss: 0.0689 - accuracy: 0.9741\n",
            "Epoch 24/30\n",
            "10/10 - 117s - loss: 0.0595 - accuracy: 0.9787\n",
            "Epoch 25/30\n",
            "10/10 - 117s - loss: 0.0614 - accuracy: 0.9760\n",
            "Epoch 26/30\n",
            "10/10 - 118s - loss: 0.0567 - accuracy: 0.9789\n",
            "Epoch 27/30\n",
            "10/10 - 117s - loss: 0.0588 - accuracy: 0.9772\n",
            "Epoch 28/30\n",
            "10/10 - 117s - loss: 0.0524 - accuracy: 0.9796\n",
            "Epoch 29/30\n",
            "10/10 - 116s - loss: 0.0486 - accuracy: 0.9815\n",
            "Epoch 30/30\n",
            "10/10 - 116s - loss: 0.0480 - accuracy: 0.9822\n",
            "5/5 - 16s - loss: 0.3415 - accuracy: 0.9157\n",
            "Simple CNN Cross validation score : 0.9191\n"
          ]
        }
      ]
    },
    {
      "cell_type": "code",
      "metadata": {
        "id": "wrfRNLZdX6JA",
        "colab": {
          "base_uri": "https://localhost:8080/"
        },
        "outputId": "cdcfa7d2-d4f7-4d13-80f7-6c27a214740c"
      },
      "source": [
        "model = create_model()\n",
        "annealer = ReduceLROnPlateau(monitor='val_accuracy', factor=0.5, patience=5, verbose=1, min_lr=1e-3)\n",
        "es = EarlyStopping(monitor='val_accuracy', mode='auto', verbose=1, patience=10)\n",
        "checkpoint = ModelCheckpoint('wafer_detection_densenet_model.h5', verbose=1, save_best_only=True)\n",
        "\n",
        "History = model.fit(X_train, y_train, \n",
        "          epochs=50, \n",
        "          batch_size=26,\n",
        "          verbose=2,\n",
        "          callbacks=[annealer, checkpoint],\n",
        "          validation_data=(X_val, y_val), \n",
        "          workers=8)"
      ],
      "execution_count": 43,
      "outputs": [
        {
          "output_type": "stream",
          "name": "stdout",
          "text": [
            "Epoch 1/50\n",
            "543/543 - 342s - loss: 0.4413 - accuracy: 0.8524 - val_loss: 0.2672 - val_accuracy: 0.9001\n",
            "\n",
            "Epoch 00001: val_loss improved from inf to 0.26720, saving model to wafer_detection_densenet_model.h5\n",
            "Epoch 2/50\n",
            "543/543 - 344s - loss: 0.2116 - accuracy: 0.9226 - val_loss: 0.2431 - val_accuracy: 0.9152\n",
            "\n",
            "Epoch 00002: val_loss improved from 0.26720 to 0.24313, saving model to wafer_detection_densenet_model.h5\n",
            "Epoch 3/50\n",
            "543/543 - 343s - loss: 0.1467 - accuracy: 0.9455 - val_loss: 0.2463 - val_accuracy: 0.9169\n",
            "\n",
            "Epoch 00003: val_loss did not improve from 0.24313\n",
            "Epoch 4/50\n",
            "543/543 - 338s - loss: 0.1028 - accuracy: 0.9614 - val_loss: 0.2318 - val_accuracy: 0.9322\n",
            "\n",
            "Epoch 00004: val_loss improved from 0.24313 to 0.23185, saving model to wafer_detection_densenet_model.h5\n",
            "Epoch 5/50\n",
            "543/543 - 339s - loss: 0.0875 - accuracy: 0.9670 - val_loss: 0.2910 - val_accuracy: 0.9296\n",
            "\n",
            "Epoch 00005: val_loss did not improve from 0.23185\n",
            "Epoch 6/50\n",
            "543/543 - 345s - loss: 0.0648 - accuracy: 0.9764 - val_loss: 0.3141 - val_accuracy: 0.9237\n",
            "\n",
            "Epoch 00006: val_loss did not improve from 0.23185\n",
            "Epoch 7/50\n",
            "543/543 - 342s - loss: 0.0577 - accuracy: 0.9769 - val_loss: 0.3275 - val_accuracy: 0.9240\n",
            "\n",
            "Epoch 00007: val_loss did not improve from 0.23185\n",
            "Epoch 8/50\n",
            "543/543 - 337s - loss: 0.0430 - accuracy: 0.9835 - val_loss: 0.4566 - val_accuracy: 0.9109\n",
            "\n",
            "Epoch 00008: val_loss did not improve from 0.23185\n",
            "Epoch 9/50\n",
            "543/543 - 336s - loss: 0.0444 - accuracy: 0.9835 - val_loss: 0.4215 - val_accuracy: 0.9206\n",
            "\n",
            "Epoch 00009: val_loss did not improve from 0.23185\n",
            "Epoch 10/50\n",
            "543/543 - 337s - loss: 0.0450 - accuracy: 0.9830 - val_loss: 0.3903 - val_accuracy: 0.9311\n",
            "\n",
            "Epoch 00010: val_loss did not improve from 0.23185\n",
            "Epoch 11/50\n",
            "543/543 - 336s - loss: 0.0363 - accuracy: 0.9878 - val_loss: 0.3912 - val_accuracy: 0.9296\n",
            "\n",
            "Epoch 00011: val_loss did not improve from 0.23185\n",
            "Epoch 12/50\n",
            "543/543 - 337s - loss: 0.0290 - accuracy: 0.9896 - val_loss: 0.4086 - val_accuracy: 0.9243\n",
            "\n",
            "Epoch 00012: val_loss did not improve from 0.23185\n",
            "Epoch 13/50\n",
            "543/543 - 341s - loss: 0.0250 - accuracy: 0.9904 - val_loss: 0.4913 - val_accuracy: 0.9282\n",
            "\n",
            "Epoch 00013: val_loss did not improve from 0.23185\n",
            "Epoch 14/50\n",
            "543/543 - 342s - loss: 0.0189 - accuracy: 0.9935 - val_loss: 0.5145 - val_accuracy: 0.9282\n",
            "\n",
            "Epoch 00014: val_loss did not improve from 0.23185\n",
            "Epoch 15/50\n",
            "543/543 - 341s - loss: 0.0135 - accuracy: 0.9946 - val_loss: 0.5848 - val_accuracy: 0.9285\n",
            "\n",
            "Epoch 00015: val_loss did not improve from 0.23185\n",
            "Epoch 16/50\n",
            "543/543 - 341s - loss: 0.0120 - accuracy: 0.9950 - val_loss: 0.5875 - val_accuracy: 0.9262\n",
            "\n",
            "Epoch 00016: val_loss did not improve from 0.23185\n",
            "Epoch 17/50\n",
            "543/543 - 342s - loss: 0.0267 - accuracy: 0.9906 - val_loss: 0.5946 - val_accuracy: 0.9106\n",
            "\n",
            "Epoch 00017: val_loss did not improve from 0.23185\n",
            "Epoch 18/50\n",
            "543/543 - 343s - loss: 0.0451 - accuracy: 0.9874 - val_loss: 0.4594 - val_accuracy: 0.9237\n",
            "\n",
            "Epoch 00018: val_loss did not improve from 0.23185\n",
            "Epoch 19/50\n",
            "543/543 - 344s - loss: 0.0154 - accuracy: 0.9933 - val_loss: 0.6416 - val_accuracy: 0.9186\n",
            "\n",
            "Epoch 00019: val_loss did not improve from 0.23185\n",
            "Epoch 20/50\n",
            "543/543 - 342s - loss: 0.0125 - accuracy: 0.9957 - val_loss: 0.6409 - val_accuracy: 0.9237\n",
            "\n",
            "Epoch 00020: val_loss did not improve from 0.23185\n",
            "Epoch 21/50\n",
            "543/543 - 342s - loss: 0.0121 - accuracy: 0.9955 - val_loss: 0.6920 - val_accuracy: 0.9245\n",
            "\n",
            "Epoch 00021: val_loss did not improve from 0.23185\n",
            "Epoch 22/50\n",
            "543/543 - 342s - loss: 0.0286 - accuracy: 0.9916 - val_loss: 0.6015 - val_accuracy: 0.9251\n",
            "\n",
            "Epoch 00022: val_loss did not improve from 0.23185\n",
            "Epoch 23/50\n",
            "543/543 - 338s - loss: 0.0102 - accuracy: 0.9958 - val_loss: 0.6692 - val_accuracy: 0.9248\n",
            "\n",
            "Epoch 00023: val_loss did not improve from 0.23185\n",
            "Epoch 24/50\n",
            "543/543 - 337s - loss: 0.0069 - accuracy: 0.9970 - val_loss: 0.6822 - val_accuracy: 0.9262\n",
            "\n",
            "Epoch 00024: val_loss did not improve from 0.23185\n",
            "Epoch 25/50\n",
            "543/543 - 338s - loss: 0.0068 - accuracy: 0.9971 - val_loss: 0.7599 - val_accuracy: 0.9237\n",
            "\n",
            "Epoch 00025: val_loss did not improve from 0.23185\n",
            "Epoch 26/50\n",
            "543/543 - 341s - loss: 0.0098 - accuracy: 0.9963 - val_loss: 0.7827 - val_accuracy: 0.9299\n",
            "\n",
            "Epoch 00026: val_loss did not improve from 0.23185\n",
            "Epoch 27/50\n",
            "543/543 - 339s - loss: 0.0099 - accuracy: 0.9963 - val_loss: 0.9139 - val_accuracy: 0.9243\n",
            "\n",
            "Epoch 00027: val_loss did not improve from 0.23185\n",
            "Epoch 28/50\n",
            "543/543 - 339s - loss: 0.0251 - accuracy: 0.9934 - val_loss: 0.5850 - val_accuracy: 0.9214\n",
            "\n",
            "Epoch 00028: val_loss did not improve from 0.23185\n",
            "Epoch 29/50\n",
            "543/543 - 338s - loss: 0.0186 - accuracy: 0.9945 - val_loss: 0.6759 - val_accuracy: 0.9217\n",
            "\n",
            "Epoch 00029: val_loss did not improve from 0.23185\n",
            "Epoch 30/50\n",
            "543/543 - 337s - loss: 0.0370 - accuracy: 0.9931 - val_loss: 0.6523 - val_accuracy: 0.9274\n",
            "\n",
            "Epoch 00030: val_loss did not improve from 0.23185\n",
            "Epoch 31/50\n",
            "543/543 - 340s - loss: 0.0084 - accuracy: 0.9970 - val_loss: 0.7500 - val_accuracy: 0.9262\n",
            "\n",
            "Epoch 00031: val_loss did not improve from 0.23185\n",
            "Epoch 32/50\n",
            "543/543 - 343s - loss: 0.0074 - accuracy: 0.9971 - val_loss: 0.8467 - val_accuracy: 0.9234\n",
            "\n",
            "Epoch 00032: val_loss did not improve from 0.23185\n",
            "Epoch 33/50\n",
            "543/543 - 342s - loss: 0.0089 - accuracy: 0.9970 - val_loss: 0.7610 - val_accuracy: 0.9311\n",
            "\n",
            "Epoch 00033: val_loss did not improve from 0.23185\n",
            "Epoch 34/50\n",
            "543/543 - 342s - loss: 0.0051 - accuracy: 0.9977 - val_loss: 0.8248 - val_accuracy: 0.9296\n",
            "\n",
            "Epoch 00034: val_loss did not improve from 0.23185\n",
            "Epoch 35/50\n",
            "543/543 - 340s - loss: 0.0044 - accuracy: 0.9979 - val_loss: 0.7908 - val_accuracy: 0.9265\n",
            "\n",
            "Epoch 00035: val_loss did not improve from 0.23185\n",
            "Epoch 36/50\n",
            "543/543 - 341s - loss: 0.0044 - accuracy: 0.9978 - val_loss: 0.8177 - val_accuracy: 0.9274\n",
            "\n",
            "Epoch 00036: val_loss did not improve from 0.23185\n",
            "Epoch 37/50\n",
            "543/543 - 340s - loss: 0.0046 - accuracy: 0.9982 - val_loss: 0.8971 - val_accuracy: 0.9265\n",
            "\n",
            "Epoch 00037: val_loss did not improve from 0.23185\n",
            "Epoch 38/50\n",
            "543/543 - 343s - loss: 0.0176 - accuracy: 0.9952 - val_loss: 0.8219 - val_accuracy: 0.9291\n",
            "\n",
            "Epoch 00038: val_loss did not improve from 0.23185\n",
            "Epoch 39/50\n",
            "543/543 - 347s - loss: 0.0162 - accuracy: 0.9942 - val_loss: 0.8692 - val_accuracy: 0.9140\n",
            "\n",
            "Epoch 00039: val_loss did not improve from 0.23185\n",
            "Epoch 40/50\n",
            "543/543 - 344s - loss: 0.0181 - accuracy: 0.9952 - val_loss: 0.8650 - val_accuracy: 0.9268\n",
            "\n",
            "Epoch 00040: val_loss did not improve from 0.23185\n",
            "Epoch 41/50\n",
            "543/543 - 343s - loss: 0.0110 - accuracy: 0.9967 - val_loss: 0.9501 - val_accuracy: 0.9243\n",
            "\n",
            "Epoch 00041: val_loss did not improve from 0.23185\n",
            "Epoch 42/50\n",
            "543/543 - 342s - loss: 0.0195 - accuracy: 0.9952 - val_loss: 0.8225 - val_accuracy: 0.9172\n",
            "\n",
            "Epoch 00042: val_loss did not improve from 0.23185\n",
            "Epoch 43/50\n",
            "543/543 - 343s - loss: 0.0125 - accuracy: 0.9965 - val_loss: 0.8218 - val_accuracy: 0.9243\n",
            "\n",
            "Epoch 00043: val_loss did not improve from 0.23185\n",
            "Epoch 44/50\n",
            "543/543 - 343s - loss: 0.0049 - accuracy: 0.9980 - val_loss: 0.8388 - val_accuracy: 0.9282\n",
            "\n",
            "Epoch 00044: val_loss did not improve from 0.23185\n",
            "Epoch 45/50\n",
            "543/543 - 341s - loss: 0.0039 - accuracy: 0.9984 - val_loss: 0.8600 - val_accuracy: 0.9282\n",
            "\n",
            "Epoch 00045: val_loss did not improve from 0.23185\n",
            "Epoch 46/50\n",
            "543/543 - 339s - loss: 0.0036 - accuracy: 0.9982 - val_loss: 0.8905 - val_accuracy: 0.9277\n",
            "\n",
            "Epoch 00046: val_loss did not improve from 0.23185\n",
            "Epoch 47/50\n",
            "543/543 - 342s - loss: 0.0034 - accuracy: 0.9981 - val_loss: 0.8728 - val_accuracy: 0.9271\n",
            "\n",
            "Epoch 00047: val_loss did not improve from 0.23185\n",
            "Epoch 48/50\n",
            "543/543 - 342s - loss: 0.0034 - accuracy: 0.9984 - val_loss: 0.8537 - val_accuracy: 0.9291\n",
            "\n",
            "Epoch 00048: val_loss did not improve from 0.23185\n",
            "Epoch 49/50\n",
            "543/543 - 339s - loss: 0.0053 - accuracy: 0.9977 - val_loss: 0.9691 - val_accuracy: 0.9240\n",
            "\n",
            "Epoch 00049: val_loss did not improve from 0.23185\n",
            "Epoch 50/50\n",
            "543/543 - 339s - loss: 0.0081 - accuracy: 0.9972 - val_loss: 0.8583 - val_accuracy: 0.9282\n",
            "\n",
            "Epoch 00050: val_loss did not improve from 0.23185\n"
          ]
        }
      ]
    },
    {
      "cell_type": "code",
      "metadata": {
        "id": "tFkDn-CKhVGL",
        "colab": {
          "base_uri": "https://localhost:8080/"
        },
        "outputId": "d64c6eb8-54fa-4e81-8c37-77a651311edf"
      },
      "source": [
        "score = model.evaluate(X_val, y_val)\n",
        "print('Testing Accuracy:',score[1])"
      ],
      "execution_count": 44,
      "outputs": [
        {
          "output_type": "stream",
          "name": "stdout",
          "text": [
            "111/111 [==============================] - 16s 145ms/step - loss: 0.8583 - accuracy: 0.9282\n",
            "Testing Accuracy: 0.9282269477844238\n"
          ]
        }
      ]
    },
    {
      "cell_type": "code",
      "metadata": {
        "id": "RIfs_LRHh5wR"
      },
      "source": [
        "predictions = model.predict(X_val)"
      ],
      "execution_count": 45,
      "outputs": []
    },
    {
      "cell_type": "code",
      "metadata": {
        "id": "MTiSt6L8yiCN"
      },
      "source": [
        "predictions = np.argmax(predictions > 0.5, axis=1)"
      ],
      "execution_count": 46,
      "outputs": []
    },
    {
      "cell_type": "code",
      "metadata": {
        "id": "Ql93vqTUjmz7"
      },
      "source": [
        "# from numpy import argmax\n",
        "true = np.array([np.argmax(y, axis=None, out=None) for y in y_val])"
      ],
      "execution_count": 47,
      "outputs": []
    },
    {
      "cell_type": "code",
      "metadata": {
        "id": "nVinR0V6hcKz",
        "colab": {
          "base_uri": "https://localhost:8080/"
        },
        "outputId": "d460f795-0ace-46cc-feec-07fb955c3a08"
      },
      "source": [
        "# Confusion Matrix\n",
        "print(classification_report(true, predictions))"
      ],
      "execution_count": 49,
      "outputs": [
        {
          "output_type": "stream",
          "name": "stdout",
          "text": [
            "              precision    recall  f1-score   support\n",
            "\n",
            "           0       0.95      0.98      0.97       724\n",
            "           1       0.79      0.84      0.81        73\n",
            "           2       0.88      0.88      0.88       477\n",
            "           3       0.97      0.99      0.98      1709\n",
            "           4       0.82      0.74      0.78       310\n",
            "           5       0.90      0.91      0.91       116\n",
            "           6       0.56      0.46      0.51       105\n",
            "           7       0.79      1.00      0.88        11\n",
            "\n",
            "    accuracy                           0.93      3525\n",
            "   macro avg       0.83      0.85      0.84      3525\n",
            "weighted avg       0.92      0.93      0.93      3525\n",
            "\n"
          ]
        }
      ]
    },
    {
      "cell_type": "code",
      "metadata": {
        "id": "IkJEhcgghaIm",
        "colab": {
          "base_uri": "https://localhost:8080/",
          "height": 573
        },
        "outputId": "2ca086cb-6c6a-43cc-bd37-f531623000a7"
      },
      "source": [
        "# accuracy plot \n",
        "plt.plot(History.history['accuracy'])\n",
        "plt.plot(History.history['val_accuracy'])\n",
        "plt.title('model accuracy')\n",
        "plt.ylabel('accuracy')\n",
        "plt.xlabel('epoch')\n",
        "plt.legend(['train', 'test'], loc='upper left')\n",
        "plt.show()\n",
        "\n",
        "# loss plot\n",
        "plt.plot(History.history['loss'])\n",
        "plt.plot(History.history['val_loss'])\n",
        "plt.title('model loss')\n",
        "plt.ylabel('loss')\n",
        "plt.xlabel('epoch')\n",
        "plt.legend(['train', 'test'], loc='upper left')\n",
        "plt.show()"
      ],
      "execution_count": 50,
      "outputs": [
        {
          "output_type": "display_data",
          "data": {
            "image/png": "[encoded data removed]",
            "text/plain": [
              "<Figure size 432x288 with 1 Axes>"
            ]
          },
          "metadata": {
            "needs_background": "light"
          }
        },
        {
          "output_type": "display_data",
          "data": {
            "image/png": "[encoded data removed]",
            "text/plain": [
              "<Figure size 432x288 with 1 Axes>"
            ]
          },
          "metadata": {
            "needs_background": "light"
          }
        }
      ]
    }
  ]
}
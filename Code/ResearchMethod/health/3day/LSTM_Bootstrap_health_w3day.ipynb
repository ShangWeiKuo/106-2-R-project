{
  "nbformat": 4,
  "nbformat_minor": 0,
  "metadata": {
    "colab": {
      "name": "LSTM_Bootstrap_health_w3day.ipynb",
      "provenance": [],
      "collapsed_sections": [],
      "include_colab_link": true
    },
    "kernelspec": {
      "name": "python3",
      "display_name": "Python 3"
    },
    "language_info": {
      "name": "python"
    }
  },
  "cells": [
    {
      "cell_type": "markdown",
      "metadata": {
        "id": "view-in-github",
        "colab_type": "text"
      },
      "source": [
        "<a href=\"https://colab.research.google.com/github/ShangWeiKuo/106-2-R-project/blob/master/Code/ResearchMethod/health/3day/LSTM_Bootstrap_health_w3day.ipynb\" target=\"_parent\"><img src=\"https://colab.research.google.com/assets/colab-badge.svg\" alt=\"Open In Colab\"/></a>"
      ]
    },
    {
      "cell_type": "code",
      "metadata": {
        "id": "ZgUWb4-5Pvvw",
        "colab": {
          "base_uri": "https://localhost:8080/"
        },
        "outputId": "0d61464f-d1f2-411a-f4af-a3f4e7ec1394"
      },
      "source": [
        "from google.colab import drive\n",
        "drive.mount('/content/drive')"
      ],
      "execution_count": null,
      "outputs": [
        {
          "output_type": "stream",
          "text": [
            "Mounted at /content/drive\n"
          ],
          "name": "stdout"
        }
      ]
    },
    {
      "cell_type": "code",
      "metadata": {
        "id": "RBuyy-fV-yI-",
        "colab": {
          "base_uri": "https://localhost:8080/"
        },
        "outputId": "9d344b85-8983-40b8-ef20-59864c10a638"
      },
      "source": [
        "!pip install tsmoothie\n",
        "!pip install keras-hypetune"
      ],
      "execution_count": null,
      "outputs": [
        {
          "output_type": "stream",
          "text": [
            "Collecting tsmoothie\n",
            "  Downloading tsmoothie-1.0.4-py3-none-any.whl (21 kB)\n",
            "Requirement already satisfied: scipy in /usr/local/lib/python3.7/dist-packages (from tsmoothie) (1.4.1)\n",
            "Requirement already satisfied: numpy in /usr/local/lib/python3.7/dist-packages (from tsmoothie) (1.19.5)\n",
            "Collecting simdkalman\n",
            "  Downloading simdkalman-1.0.1-py2.py3-none-any.whl (11 kB)\n",
            "Installing collected packages: simdkalman, tsmoothie\n",
            "Successfully installed simdkalman-1.0.1 tsmoothie-1.0.4\n",
            "Collecting keras-hypetune\n",
            "  Downloading keras_hypetune-0.1.2-py3-none-any.whl (10 kB)\n",
            "Requirement already satisfied: numpy in /usr/local/lib/python3.7/dist-packages (from keras-hypetune) (1.19.5)\n",
            "Installing collected packages: keras-hypetune\n",
            "Successfully installed keras-hypetune-0.1.2\n"
          ],
          "name": "stdout"
        }
      ]
    },
    {
      "cell_type": "code",
      "metadata": {
        "id": "Jxy_sXA2_TDg"
      },
      "source": [
        "import os\n",
        "import random\n",
        "import numpy as np\n",
        "import pandas as pd\n",
        "import seaborn as sns\n",
        "import matplotlib.pyplot as plt\n",
        "\n",
        "from tsmoothie.smoother import *\n",
        "from tsmoothie.utils_func import create_windows\n",
        "\n",
        "from sklearn.model_selection import train_test_split\n",
        "from sklearn.metrics import mean_squared_error as mse\n",
        "\n",
        "import tensorflow as tf\n",
        "from tensorflow.keras.layers import *\n",
        "from tensorflow.keras.models import *\n",
        "from tensorflow.keras.callbacks import *\n",
        "from tensorflow.keras.optimizers import *\n",
        "from keras.callbacks import EarlyStopping\n",
        "from keras.layers import LSTM\n",
        "from keras.optimizers import Adam\n",
        "from kerashypetune import KerasGridSearch\n",
        "from pandas import read_csv\n",
        "from pandas import DataFrame\n",
        "import numpy as np\n",
        "import pickle"
      ],
      "execution_count": null,
      "outputs": []
    },
    {
      "cell_type": "code",
      "metadata": {
        "id": "ZDxE2qWL_V2g"
      },
      "source": [
        "window_shape = 3\n",
        "time_h = 1"
      ],
      "execution_count": null,
      "outputs": []
    },
    {
      "cell_type": "code",
      "metadata": {
        "id": "ji7A6FwL_YPh"
      },
      "source": [
        "import rpy2 \n",
        "%load_ext rpy2.ipython"
      ],
      "execution_count": null,
      "outputs": []
    },
    {
      "cell_type": "code",
      "metadata": {
        "id": "yd2QxLbk_Z0R",
        "colab": {
          "base_uri": "https://localhost:8080/"
        },
        "outputId": "a51c2e82-d743-4b14-810f-6a254ea98d76"
      },
      "source": [
        "%%R\n",
        "require(readr)\n",
        "require(dplyr)\n",
        "df = read_csv(\"/content/drive/MyDrive/paper/raw_covid_data.csv\")"
      ],
      "execution_count": null,
      "outputs": [
        {
          "output_type": "stream",
          "text": [
            "R[write to console]: Loading required package: readr\n",
            "\n",
            "R[write to console]: Loading required package: dplyr\n",
            "\n",
            "R[write to console]: \n",
            "Attaching package: ‘dplyr’\n",
            "\n",
            "\n",
            "R[write to console]: The following objects are masked from ‘package:stats’:\n",
            "\n",
            "    filter, lag\n",
            "\n",
            "\n",
            "R[write to console]: The following objects are masked from ‘package:base’:\n",
            "\n",
            "    intersect, setdiff, setequal, union\n",
            "\n",
            "\n"
          ],
          "name": "stderr"
        },
        {
          "output_type": "stream",
          "text": [
            "\n",
            "── Column specification ────────────────────────────────────────────────────────\n",
            "cols(\n",
            "  positive = col_double(),\n",
            "  death = col_double(),\n",
            "  new_test = col_double(),\n",
            "  new_case = col_double(),\n",
            "  dis_less_one = col_double(),\n",
            "  dis_one_twtf = col_double(),\n",
            "  dis_twtf_hum = col_double(),\n",
            "  dis_higher_hum = col_double(),\n",
            "  passenger_d_volume = col_double(),\n",
            "  passenger_i_volume = col_double(),\n",
            "  person_screened_number = col_double()\n",
            ")\n",
            "\n"
          ],
          "name": "stdout"
        }
      ]
    },
    {
      "cell_type": "code",
      "metadata": {
        "id": "xoNEYfRO_bQT",
        "colab": {
          "base_uri": "https://localhost:8080/"
        },
        "outputId": "948b3de5-d8fc-4490-f665-8040f1afc657"
      },
      "source": [
        "%%R\n",
        "install.packages(\"forecast\"); library(forecast)"
      ],
      "execution_count": null,
      "outputs": [
        {
          "output_type": "stream",
          "text": [
            "R[write to console]: Installing package into ‘/usr/local/lib/R/site-library’\n",
            "(as ‘lib’ is unspecified)\n",
            "\n",
            "R[write to console]: also installing the dependencies ‘xts’, ‘TTR’, ‘quadprog’, ‘quantmod’, ‘fracdiff’, ‘lmtest’, ‘timeDate’, ‘tseries’, ‘urca’, ‘zoo’, ‘RcppArmadillo’\n",
            "\n",
            "\n",
            "R[write to console]: trying URL 'https://cran.rstudio.com/src/contrib/xts_0.12.1.tar.gz'\n",
            "\n",
            "R[write to console]: Content type 'application/x-gzip'\n",
            "R[write to console]:  length 517875 bytes (505 KB)\n",
            "\n",
            "R[write to console]: =\n",
            "R[write to console]: =\n",
            "R[write to console]: =\n",
            "R[write to console]: =\n",
            "R[write to console]: =\n",
            "R[write to console]: =\n",
            "R[write to console]: =\n",
            "R[write to console]: =\n",
            "R[write to console]: =\n",
            "R[write to console]: =\n",
            "R[write to console]: =\n",
            "R[write to console]: =\n",
            "R[write to console]: =\n",
            "R[write to console]: =\n",
            "R[write to console]: =\n",
            "R[write to console]: =\n",
            "R[write to console]: =\n",
            "R[write to console]: =\n",
            "R[write to console]: =\n",
            "R[write to console]: =\n",
            "R[write to console]: =\n",
            "R[write to console]: =\n",
            "R[write to console]: =\n",
            "R[write to console]: =\n",
            "R[write to console]: =\n",
            "R[write to console]: =\n",
            "R[write to console]: =\n",
            "R[write to console]: =\n",
            "R[write to console]: =\n",
            "R[write to console]: =\n",
            "R[write to console]: =\n",
            "R[write to console]: =\n",
            "R[write to console]: =\n",
            "R[write to console]: =\n",
            "R[write to console]: =\n",
            "R[write to console]: =\n",
            "R[write to console]: =\n",
            "R[write to console]: =\n",
            "R[write to console]: =\n",
            "R[write to console]: =\n",
            "R[write to console]: =\n",
            "R[write to console]: =\n",
            "R[write to console]: =\n",
            "R[write to console]: =\n",
            "R[write to console]: =\n",
            "R[write to console]: =\n",
            "R[write to console]: =\n",
            "R[write to console]: =\n",
            "R[write to console]: =\n",
            "R[write to console]: =\n",
            "R[write to console]: \n",
            "\n",
            "R[write to console]: downloaded 505 KB\n",
            "\n",
            "\n",
            "R[write to console]: trying URL 'https://cran.rstudio.com/src/contrib/TTR_0.24.2.tar.gz'\n",
            "\n",
            "R[write to console]: Content type 'application/x-gzip'\n",
            "R[write to console]:  length 314035 bytes (306 KB)\n",
            "\n",
            "R[write to console]: =\n",
            "R[write to console]: =\n",
            "R[write to console]: =\n",
            "R[write to console]: =\n",
            "R[write to console]: =\n",
            "R[write to console]: =\n",
            "R[write to console]: =\n",
            "R[write to console]: =\n",
            "R[write to console]: =\n",
            "R[write to console]: =\n",
            "R[write to console]: =\n",
            "R[write to console]: =\n",
            "R[write to console]: =\n",
            "R[write to console]: =\n",
            "R[write to console]: =\n",
            "R[write to console]: =\n",
            "R[write to console]: =\n",
            "R[write to console]: =\n",
            "R[write to console]: =\n",
            "R[write to console]: =\n",
            "R[write to console]: =\n",
            "R[write to console]: =\n",
            "R[write to console]: =\n",
            "R[write to console]: =\n",
            "R[write to console]: =\n",
            "R[write to console]: =\n",
            "R[write to console]: =\n",
            "R[write to console]: =\n",
            "R[write to console]: =\n",
            "R[write to console]: =\n",
            "R[write to console]: =\n",
            "R[write to console]: =\n",
            "R[write to console]: =\n",
            "R[write to console]: =\n",
            "R[write to console]: =\n",
            "R[write to console]: =\n",
            "R[write to console]: =\n",
            "R[write to console]: =\n",
            "R[write to console]: =\n",
            "R[write to console]: =\n",
            "R[write to console]: =\n",
            "R[write to console]: =\n",
            "R[write to console]: =\n",
            "R[write to console]: =\n",
            "R[write to console]: =\n",
            "R[write to console]: =\n",
            "R[write to console]: =\n",
            "R[write to console]: =\n",
            "R[write to console]: =\n",
            "R[write to console]: =\n",
            "R[write to console]: \n",
            "\n",
            "R[write to console]: downloaded 306 KB\n",
            "\n",
            "\n",
            "R[write to console]: trying URL 'https://cran.rstudio.com/src/contrib/quadprog_1.5-8.tar.gz'\n",
            "\n",
            "R[write to console]: Content type 'application/x-gzip'\n",
            "R[write to console]:  length 36141 bytes (35 KB)\n",
            "\n",
            "R[write to console]: =\n",
            "R[write to console]: =\n",
            "R[write to console]: =\n",
            "R[write to console]: =\n",
            "R[write to console]: =\n",
            "R[write to console]: =\n",
            "R[write to console]: =\n",
            "R[write to console]: =\n",
            "R[write to console]: =\n",
            "R[write to console]: =\n",
            "R[write to console]: =\n",
            "R[write to console]: =\n",
            "R[write to console]: =\n",
            "R[write to console]: =\n",
            "R[write to console]: =\n",
            "R[write to console]: =\n",
            "R[write to console]: =\n",
            "R[write to console]: =\n",
            "R[write to console]: =\n",
            "R[write to console]: =\n",
            "R[write to console]: =\n",
            "R[write to console]: =\n",
            "R[write to console]: =\n",
            "R[write to console]: =\n",
            "R[write to console]: =\n",
            "R[write to console]: =\n",
            "R[write to console]: =\n",
            "R[write to console]: =\n",
            "R[write to console]: =\n",
            "R[write to console]: =\n",
            "R[write to console]: =\n",
            "R[write to console]: =\n",
            "R[write to console]: =\n",
            "R[write to console]: =\n",
            "R[write to console]: =\n",
            "R[write to console]: =\n",
            "R[write to console]: =\n",
            "R[write to console]: =\n",
            "R[write to console]: =\n",
            "R[write to console]: =\n",
            "R[write to console]: =\n",
            "R[write to console]: =\n",
            "R[write to console]: =\n",
            "R[write to console]: =\n",
            "R[write to console]: =\n",
            "R[write to console]: =\n",
            "R[write to console]: =\n",
            "R[write to console]: =\n",
            "R[write to console]: =\n",
            "R[write to console]: =\n",
            "R[write to console]: \n",
            "\n",
            "R[write to console]: downloaded 35 KB\n",
            "\n",
            "\n",
            "R[write to console]: trying URL 'https://cran.rstudio.com/src/contrib/quantmod_0.4.18.tar.gz'\n",
            "\n",
            "R[write to console]: Content type 'application/x-gzip'\n",
            "R[write to console]:  length 154512 bytes (150 KB)\n",
            "\n",
            "R[write to console]: =\n",
            "R[write to console]: =\n",
            "R[write to console]: =\n",
            "R[write to console]: =\n",
            "R[write to console]: =\n",
            "R[write to console]: =\n",
            "R[write to console]: =\n",
            "R[write to console]: =\n",
            "R[write to console]: =\n",
            "R[write to console]: =\n",
            "R[write to console]: =\n",
            "R[write to console]: =\n",
            "R[write to console]: =\n",
            "R[write to console]: =\n",
            "R[write to console]: =\n",
            "R[write to console]: =\n",
            "R[write to console]: =\n",
            "R[write to console]: =\n",
            "R[write to console]: =\n",
            "R[write to console]: =\n",
            "R[write to console]: =\n",
            "R[write to console]: =\n",
            "R[write to console]: =\n",
            "R[write to console]: =\n",
            "R[write to console]: =\n",
            "R[write to console]: =\n",
            "R[write to console]: =\n",
            "R[write to console]: =\n",
            "R[write to console]: =\n",
            "R[write to console]: =\n",
            "R[write to console]: =\n",
            "R[write to console]: =\n",
            "R[write to console]: =\n",
            "R[write to console]: =\n",
            "R[write to console]: =\n",
            "R[write to console]: =\n",
            "R[write to console]: =\n",
            "R[write to console]: =\n",
            "R[write to console]: =\n",
            "R[write to console]: =\n",
            "R[write to console]: =\n",
            "R[write to console]: =\n",
            "R[write to console]: =\n",
            "R[write to console]: =\n",
            "R[write to console]: =\n",
            "R[write to console]: =\n",
            "R[write to console]: =\n",
            "R[write to console]: =\n",
            "R[write to console]: =\n",
            "R[write to console]: =\n",
            "R[write to console]: \n",
            "\n",
            "R[write to console]: downloaded 150 KB\n",
            "\n",
            "\n",
            "R[write to console]: trying URL 'https://cran.rstudio.com/src/contrib/fracdiff_1.5-1.tar.gz'\n",
            "\n",
            "R[write to console]: Content type 'application/x-gzip'\n",
            "R[write to console]:  length 63764 bytes (62 KB)\n",
            "\n",
            "R[write to console]: =\n",
            "R[write to console]: =\n",
            "R[write to console]: =\n",
            "R[write to console]: =\n",
            "R[write to console]: =\n",
            "R[write to console]: =\n",
            "R[write to console]: =\n",
            "R[write to console]: =\n",
            "R[write to console]: =\n",
            "R[write to console]: =\n",
            "R[write to console]: =\n",
            "R[write to console]: =\n",
            "R[write to console]: =\n",
            "R[write to console]: =\n",
            "R[write to console]: =\n",
            "R[write to console]: =\n",
            "R[write to console]: =\n",
            "R[write to console]: =\n",
            "R[write to console]: =\n",
            "R[write to console]: =\n",
            "R[write to console]: =\n",
            "R[write to console]: =\n",
            "R[write to console]: =\n",
            "R[write to console]: =\n",
            "R[write to console]: =\n",
            "R[write to console]: =\n",
            "R[write to console]: =\n",
            "R[write to console]: =\n",
            "R[write to console]: =\n",
            "R[write to console]: =\n",
            "R[write to console]: =\n",
            "R[write to console]: =\n",
            "R[write to console]: =\n",
            "R[write to console]: =\n",
            "R[write to console]: =\n",
            "R[write to console]: =\n",
            "R[write to console]: =\n",
            "R[write to console]: =\n",
            "R[write to console]: =\n",
            "R[write to console]: =\n",
            "R[write to console]: =\n",
            "R[write to console]: =\n",
            "R[write to console]: =\n",
            "R[write to console]: =\n",
            "R[write to console]: =\n",
            "R[write to console]: =\n",
            "R[write to console]: =\n",
            "R[write to console]: =\n",
            "R[write to console]: =\n",
            "R[write to console]: =\n",
            "R[write to console]: \n",
            "\n",
            "R[write to console]: downloaded 62 KB\n",
            "\n",
            "\n",
            "R[write to console]: trying URL 'https://cran.rstudio.com/src/contrib/lmtest_0.9-38.tar.gz'\n",
            "\n",
            "R[write to console]: Content type 'application/x-gzip'\n",
            "R[write to console]:  length 227052 bytes (221 KB)\n",
            "\n",
            "R[write to console]: =\n",
            "R[write to console]: =\n",
            "R[write to console]: =\n",
            "R[write to console]: =\n",
            "R[write to console]: =\n",
            "R[write to console]: =\n",
            "R[write to console]: =\n",
            "R[write to console]: =\n",
            "R[write to console]: =\n",
            "R[write to console]: =\n",
            "R[write to console]: =\n",
            "R[write to console]: =\n",
            "R[write to console]: =\n",
            "R[write to console]: =\n",
            "R[write to console]: =\n",
            "R[write to console]: =\n",
            "R[write to console]: =\n",
            "R[write to console]: =\n",
            "R[write to console]: =\n",
            "R[write to console]: =\n",
            "R[write to console]: =\n",
            "R[write to console]: =\n",
            "R[write to console]: =\n",
            "R[write to console]: =\n",
            "R[write to console]: =\n",
            "R[write to console]: =\n",
            "R[write to console]: =\n",
            "R[write to console]: =\n",
            "R[write to console]: =\n",
            "R[write to console]: =\n",
            "R[write to console]: =\n",
            "R[write to console]: =\n",
            "R[write to console]: =\n",
            "R[write to console]: =\n",
            "R[write to console]: =\n",
            "R[write to console]: =\n",
            "R[write to console]: =\n",
            "R[write to console]: =\n",
            "R[write to console]: =\n",
            "R[write to console]: =\n",
            "R[write to console]: =\n",
            "R[write to console]: =\n",
            "R[write to console]: =\n",
            "R[write to console]: =\n",
            "R[write to console]: =\n",
            "R[write to console]: =\n",
            "R[write to console]: =\n",
            "R[write to console]: =\n",
            "R[write to console]: =\n",
            "R[write to console]: =\n",
            "R[write to console]: \n",
            "\n",
            "R[write to console]: downloaded 221 KB\n",
            "\n",
            "\n",
            "R[write to console]: trying URL 'https://cran.rstudio.com/src/contrib/timeDate_3043.102.tar.gz'\n",
            "\n",
            "R[write to console]: Content type 'application/x-gzip'\n",
            "R[write to console]:  length 314656 bytes (307 KB)\n",
            "\n",
            "R[write to console]: =\n",
            "R[write to console]: =\n",
            "R[write to console]: =\n",
            "R[write to console]: =\n",
            "R[write to console]: =\n",
            "R[write to console]: =\n",
            "R[write to console]: =\n",
            "R[write to console]: =\n",
            "R[write to console]: =\n",
            "R[write to console]: =\n",
            "R[write to console]: =\n",
            "R[write to console]: =\n",
            "R[write to console]: =\n",
            "R[write to console]: =\n",
            "R[write to console]: =\n",
            "R[write to console]: =\n",
            "R[write to console]: =\n",
            "R[write to console]: =\n",
            "R[write to console]: =\n",
            "R[write to console]: =\n",
            "R[write to console]: =\n",
            "R[write to console]: =\n",
            "R[write to console]: =\n",
            "R[write to console]: =\n",
            "R[write to console]: =\n",
            "R[write to console]: =\n",
            "R[write to console]: =\n",
            "R[write to console]: =\n",
            "R[write to console]: =\n",
            "R[write to console]: =\n",
            "R[write to console]: =\n",
            "R[write to console]: =\n",
            "R[write to console]: =\n",
            "R[write to console]: =\n",
            "R[write to console]: =\n",
            "R[write to console]: =\n",
            "R[write to console]: =\n",
            "R[write to console]: =\n",
            "R[write to console]: =\n",
            "R[write to console]: =\n",
            "R[write to console]: =\n",
            "R[write to console]: =\n",
            "R[write to console]: =\n",
            "R[write to console]: =\n",
            "R[write to console]: =\n",
            "R[write to console]: =\n",
            "R[write to console]: =\n",
            "R[write to console]: =\n",
            "R[write to console]: =\n",
            "R[write to console]: =\n",
            "R[write to console]: \n",
            "\n",
            "R[write to console]: downloaded 307 KB\n",
            "\n",
            "\n",
            "R[write to console]: trying URL 'https://cran.rstudio.com/src/contrib/tseries_0.10-48.tar.gz'\n",
            "\n",
            "R[write to console]: Content type 'application/x-gzip'\n",
            "R[write to console]:  length 170342 bytes (166 KB)\n",
            "\n",
            "R[write to console]: =\n",
            "R[write to console]: =\n",
            "R[write to console]: =\n",
            "R[write to console]: =\n",
            "R[write to console]: =\n",
            "R[write to console]: =\n",
            "R[write to console]: =\n",
            "R[write to console]: =\n",
            "R[write to console]: =\n",
            "R[write to console]: =\n",
            "R[write to console]: =\n",
            "R[write to console]: =\n",
            "R[write to console]: =\n",
            "R[write to console]: =\n",
            "R[write to console]: =\n",
            "R[write to console]: =\n",
            "R[write to console]: =\n",
            "R[write to console]: =\n",
            "R[write to console]: =\n",
            "R[write to console]: =\n",
            "R[write to console]: =\n",
            "R[write to console]: =\n",
            "R[write to console]: =\n",
            "R[write to console]: =\n",
            "R[write to console]: =\n",
            "R[write to console]: =\n",
            "R[write to console]: =\n",
            "R[write to console]: =\n",
            "R[write to console]: =\n",
            "R[write to console]: =\n",
            "R[write to console]: =\n",
            "R[write to console]: =\n",
            "R[write to console]: =\n",
            "R[write to console]: =\n",
            "R[write to console]: =\n",
            "R[write to console]: =\n",
            "R[write to console]: =\n",
            "R[write to console]: =\n",
            "R[write to console]: =\n",
            "R[write to console]: =\n",
            "R[write to console]: =\n",
            "R[write to console]: =\n",
            "R[write to console]: =\n",
            "R[write to console]: =\n",
            "R[write to console]: =\n",
            "R[write to console]: =\n",
            "R[write to console]: =\n",
            "R[write to console]: =\n",
            "R[write to console]: =\n",
            "R[write to console]: =\n",
            "R[write to console]: \n",
            "\n",
            "R[write to console]: downloaded 166 KB\n",
            "\n",
            "\n",
            "R[write to console]: trying URL 'https://cran.rstudio.com/src/contrib/urca_1.3-0.tar.gz'\n",
            "\n",
            "R[write to console]: Content type 'application/x-gzip'\n",
            "R[write to console]:  length 682935 bytes (666 KB)\n",
            "\n",
            "R[write to console]: =\n",
            "R[write to console]: =\n",
            "R[write to console]: =\n",
            "R[write to console]: =\n",
            "R[write to console]: =\n",
            "R[write to console]: =\n",
            "R[write to console]: =\n",
            "R[write to console]: =\n",
            "R[write to console]: =\n",
            "R[write to console]: =\n",
            "R[write to console]: =\n",
            "R[write to console]: =\n",
            "R[write to console]: =\n",
            "R[write to console]: =\n",
            "R[write to console]: =\n",
            "R[write to console]: =\n",
            "R[write to console]: =\n",
            "R[write to console]: =\n",
            "R[write to console]: =\n",
            "R[write to console]: =\n",
            "R[write to console]: =\n",
            "R[write to console]: =\n",
            "R[write to console]: =\n",
            "R[write to console]: =\n",
            "R[write to console]: =\n",
            "R[write to console]: =\n",
            "R[write to console]: =\n",
            "R[write to console]: =\n",
            "R[write to console]: =\n",
            "R[write to console]: =\n",
            "R[write to console]: =\n",
            "R[write to console]: =\n",
            "R[write to console]: =\n",
            "R[write to console]: =\n",
            "R[write to console]: =\n",
            "R[write to console]: =\n",
            "R[write to console]: =\n",
            "R[write to console]: =\n",
            "R[write to console]: =\n",
            "R[write to console]: =\n",
            "R[write to console]: =\n",
            "R[write to console]: =\n",
            "R[write to console]: =\n",
            "R[write to console]: =\n",
            "R[write to console]: =\n",
            "R[write to console]: =\n",
            "R[write to console]: =\n",
            "R[write to console]: =\n",
            "R[write to console]: =\n",
            "R[write to console]: =\n",
            "R[write to console]: \n",
            "\n",
            "R[write to console]: downloaded 666 KB\n",
            "\n",
            "\n",
            "R[write to console]: trying URL 'https://cran.rstudio.com/src/contrib/zoo_1.8-9.tar.gz'\n",
            "\n",
            "R[write to console]: Content type 'application/x-gzip'\n",
            "R[write to console]:  length 793891 bytes (775 KB)\n",
            "\n",
            "R[write to console]: =\n",
            "R[write to console]: =\n",
            "R[write to console]: =\n",
            "R[write to console]: =\n",
            "R[write to console]: =\n",
            "R[write to console]: =\n",
            "R[write to console]: =\n",
            "R[write to console]: =\n",
            "R[write to console]: =\n",
            "R[write to console]: =\n",
            "R[write to console]: =\n",
            "R[write to console]: =\n",
            "R[write to console]: =\n",
            "R[write to console]: =\n",
            "R[write to console]: =\n",
            "R[write to console]: =\n",
            "R[write to console]: =\n",
            "R[write to console]: =\n",
            "R[write to console]: =\n",
            "R[write to console]: =\n",
            "R[write to console]: =\n",
            "R[write to console]: =\n",
            "R[write to console]: =\n",
            "R[write to console]: =\n",
            "R[write to console]: =\n",
            "R[write to console]: =\n",
            "R[write to console]: =\n",
            "R[write to console]: =\n",
            "R[write to console]: =\n",
            "R[write to console]: =\n",
            "R[write to console]: =\n",
            "R[write to console]: =\n",
            "R[write to console]: =\n",
            "R[write to console]: =\n",
            "R[write to console]: =\n",
            "R[write to console]: =\n",
            "R[write to console]: =\n",
            "R[write to console]: =\n",
            "R[write to console]: =\n",
            "R[write to console]: =\n",
            "R[write to console]: =\n",
            "R[write to console]: =\n",
            "R[write to console]: =\n",
            "R[write to console]: =\n",
            "R[write to console]: =\n",
            "R[write to console]: =\n",
            "R[write to console]: =\n",
            "R[write to console]: =\n",
            "R[write to console]: =\n",
            "R[write to console]: =\n",
            "R[write to console]: \n",
            "\n",
            "R[write to console]: downloaded 775 KB\n",
            "\n",
            "\n",
            "R[write to console]: trying URL 'https://cran.rstudio.com/src/contrib/RcppArmadillo_0.10.6.0.0.tar.gz'\n",
            "\n",
            "R[write to console]: Content type 'application/x-gzip'\n",
            "R[write to console]:  length 1673880 bytes (1.6 MB)\n",
            "\n",
            "R[write to console]: =\n",
            "R[write to console]: =\n",
            "R[write to console]: =\n",
            "R[write to console]: =\n",
            "R[write to console]: =\n",
            "R[write to console]: =\n",
            "R[write to console]: =\n",
            "R[write to console]: =\n",
            "R[write to console]: =\n",
            "R[write to console]: =\n",
            "R[write to console]: =\n",
            "R[write to console]: =\n",
            "R[write to console]: =\n",
            "R[write to console]: =\n",
            "R[write to console]: =\n",
            "R[write to console]: =\n",
            "R[write to console]: =\n",
            "R[write to console]: =\n",
            "R[write to console]: =\n",
            "R[write to console]: =\n",
            "R[write to console]: =\n",
            "R[write to console]: =\n",
            "R[write to console]: =\n",
            "R[write to console]: =\n",
            "R[write to console]: =\n",
            "R[write to console]: =\n",
            "R[write to console]: =\n",
            "R[write to console]: =\n",
            "R[write to console]: =\n",
            "R[write to console]: =\n",
            "R[write to console]: =\n",
            "R[write to console]: =\n",
            "R[write to console]: =\n",
            "R[write to console]: =\n",
            "R[write to console]: =\n",
            "R[write to console]: =\n",
            "R[write to console]: =\n",
            "R[write to console]: =\n",
            "R[write to console]: =\n",
            "R[write to console]: =\n",
            "R[write to console]: =\n",
            "R[write to console]: =\n",
            "R[write to console]: =\n",
            "R[write to console]: =\n",
            "R[write to console]: =\n",
            "R[write to console]: =\n",
            "R[write to console]: =\n",
            "R[write to console]: =\n",
            "R[write to console]: =\n",
            "R[write to console]: =\n",
            "R[write to console]: \n",
            "\n",
            "R[write to console]: downloaded 1.6 MB\n",
            "\n",
            "\n",
            "R[write to console]: trying URL 'https://cran.rstudio.com/src/contrib/forecast_8.15.tar.gz'\n",
            "\n",
            "R[write to console]: Content type 'application/x-gzip'\n",
            "R[write to console]:  length 584703 bytes (570 KB)\n",
            "\n",
            "R[write to console]: =\n",
            "R[write to console]: =\n",
            "R[write to console]: =\n",
            "R[write to console]: =\n",
            "R[write to console]: =\n",
            "R[write to console]: =\n",
            "R[write to console]: =\n",
            "R[write to console]: =\n",
            "R[write to console]: =\n",
            "R[write to console]: =\n",
            "R[write to console]: =\n",
            "R[write to console]: =\n",
            "R[write to console]: =\n",
            "R[write to console]: =\n",
            "R[write to console]: =\n",
            "R[write to console]: =\n",
            "R[write to console]: =\n",
            "R[write to console]: =\n",
            "R[write to console]: =\n",
            "R[write to console]: =\n",
            "R[write to console]: =\n",
            "R[write to console]: =\n",
            "R[write to console]: =\n",
            "R[write to console]: =\n",
            "R[write to console]: =\n",
            "R[write to console]: =\n",
            "R[write to console]: =\n",
            "R[write to console]: =\n",
            "R[write to console]: =\n",
            "R[write to console]: =\n",
            "R[write to console]: =\n",
            "R[write to console]: =\n",
            "R[write to console]: =\n",
            "R[write to console]: =\n",
            "R[write to console]: =\n",
            "R[write to console]: =\n",
            "R[write to console]: =\n",
            "R[write to console]: =\n",
            "R[write to console]: =\n",
            "R[write to console]: =\n",
            "R[write to console]: =\n",
            "R[write to console]: =\n",
            "R[write to console]: =\n",
            "R[write to console]: =\n",
            "R[write to console]: =\n",
            "R[write to console]: =\n",
            "R[write to console]: =\n",
            "R[write to console]: =\n",
            "R[write to console]: =\n",
            "R[write to console]: =\n",
            "R[write to console]: \n",
            "\n",
            "R[write to console]: downloaded 570 KB\n",
            "\n",
            "\n",
            "R[write to console]: \n",
            "\n",
            "R[write to console]: \n",
            "R[write to console]: The downloaded source packages are in\n",
            "\t‘/tmp/RtmpxAhbuU/downloaded_packages’\n",
            "R[write to console]: \n",
            "R[write to console]: \n",
            "\n",
            "R[write to console]: Registered S3 method overwritten by 'quantmod':\n",
            "  method            from\n",
            "  as.zoo.data.frame zoo \n",
            "\n"
          ],
          "name": "stderr"
        }
      ]
    },
    {
      "cell_type": "code",
      "metadata": {
        "id": "b5Dik3uV_cvy"
      },
      "source": [
        "sample_num = 51"
      ],
      "execution_count": null,
      "outputs": []
    },
    {
      "cell_type": "code",
      "metadata": {
        "id": "Ji8M_Qmw_eWL"
      },
      "source": [
        "%%R\n",
        "sample_num = 51\n",
        "ts_df <- matrix(1:4554, ncol = 11, nrow = 414)\n",
        "for(i in c(1:ncol(df))){\n",
        "  ts_df[, i] = ts(df[, i], frequency=1)\n",
        "}\n",
        "ts_df <- ts_df %>% data.frame()\n",
        "train <- ts_df[1:331, 1:4]\n",
        "test <- ts_df[332:414, 1:4]\n",
        "\n",
        "colnames(train) <- colnames(df)[1:4]\n",
        "colnames(test) <- colnames(df)[1:4]\n",
        "\n",
        "cols = colnames(train)\n",
        "\n",
        "### BOOTSTRAP ###\n",
        "for(i in c(1:4)){\n",
        "  if(i == 1){\n",
        "    train_boot = bld.mbb.bootstrap(train[, i], sample_num, block_size = 3) %>% data.frame()\n",
        "  }else{\n",
        "    temp_boot = bld.mbb.bootstrap(train[, i], sample_num, block_size = 3) %>% data.frame()\n",
        "    train_boot = cbind(train_boot, temp_boot)\n",
        "  }\n",
        "}\n",
        "train_boot_df <- train_boot %>% data.frame()"
      ],
      "execution_count": null,
      "outputs": []
    },
    {
      "cell_type": "code",
      "metadata": {
        "id": "6XDQp3CE_kq9"
      },
      "source": [
        "train_boot_df=%R train_boot_df\n",
        "train=%R train\n",
        "test=%R test\n",
        "cols=%R cols"
      ],
      "execution_count": null,
      "outputs": []
    },
    {
      "cell_type": "code",
      "metadata": {
        "id": "GMUZqKvN_pRH"
      },
      "source": [
        "bts_2d = []\n",
        "bts_3d = []"
      ],
      "execution_count": null,
      "outputs": []
    },
    {
      "cell_type": "code",
      "metadata": {
        "id": "ebH-4UIY_r0g",
        "colab": {
          "base_uri": "https://localhost:8080/"
        },
        "outputId": "a17e8755-2d9e-47ba-82ce-cdc6267dd151"
      },
      "source": [
        "for i in range(4):\n",
        "  for j in range(1, sample_num):\n",
        "    bts_3d.append(train_boot_df.iloc[:, j+(sample_num*i)])\n",
        "  bts_2d.append(bts_3d)\n",
        "  bts_3d = []\n",
        "\n",
        "bts_2d = np.stack(bts_2d, axis=-1)\n",
        "bts_2d.shape"
      ],
      "execution_count": null,
      "outputs": [
        {
          "output_type": "execute_result",
          "data": {
            "text/plain": [
              "(50, 331, 4)"
            ]
          },
          "metadata": {
            "tags": []
          },
          "execution_count": 12
        }
      ]
    },
    {
      "cell_type": "code",
      "metadata": {
        "id": "UWGe4SZ-LzTB"
      },
      "source": [
        "bts_2d_y = bts_2d[:, :, 3].reshape((bts_2d.shape[0], bts_2d.shape[1], 1))\n",
        "train_y = pd.DataFrame(train['new_case'])\n",
        "test_y = pd.DataFrame(test['new_case'])"
      ],
      "execution_count": null,
      "outputs": []
    },
    {
      "cell_type": "code",
      "metadata": {
        "id": "L_jmKzWO_2Wj",
        "colab": {
          "base_uri": "https://localhost:8080/"
        },
        "outputId": "8dd126ee-72bd-4fcf-d6db-b077c75d1500"
      },
      "source": [
        "### CREATE TRAIN/VALIDATION WINDOWS W/ BOOTSTRAP ###\n",
        "\n",
        "_X = create_windows(train[cols], window_shape=window_shape, end_id=-time_h)\n",
        "_y = create_windows(train_y, window_shape=time_h, start_id=window_shape)\n",
        "_X_train, _X_val, _y_train, _y_val = train_test_split(_X, _y, test_size=window_shape*22, shuffle=True)\n",
        "X_train, X_val, y_train, y_val = [_X_train], [_X_val], [_y_train], [_y_val]\n",
        "\n",
        "for i in range(1, bts_2d.shape[0]):\n",
        "\n",
        "    _X = create_windows(bts_2d[i], window_shape=window_shape, end_id=-time_h)\n",
        "    _y = create_windows(bts_2d_y[i], window_shape=time_h, start_id=window_shape)\n",
        "    _X_train, _X_val, _y_train, _y_val = train_test_split(_X, _y, test_size=window_shape*22, shuffle=True)\n",
        "    X_train.append(_X_train); X_val.append(_X_val)\n",
        "    y_train.append(_y_train); y_val.append(_y_val)\n",
        "    \n",
        "X_train = np.concatenate(X_train); X_val = np.concatenate(X_val)\n",
        "y_train = np.concatenate(y_train); y_val = np.concatenate(y_val)\n",
        "\n",
        "print(X_train.shape, y_train.shape)\n",
        "print(X_val.shape, y_val.shape)"
      ],
      "execution_count": null,
      "outputs": [
        {
          "output_type": "stream",
          "text": [
            "(13100, 3, 4) (13100, 1, 1)\n",
            "(3300, 3, 4) (3300, 1, 1)\n"
          ],
          "name": "stdout"
        }
      ]
    },
    {
      "cell_type": "code",
      "metadata": {
        "id": "4X7_3vSHIdJA"
      },
      "source": [
        "Min_train = []\n",
        "Min_val = []\n",
        "Max_train = []\n",
        "Max_val = []"
      ],
      "execution_count": null,
      "outputs": []
    },
    {
      "cell_type": "code",
      "metadata": {
        "id": "cP3OkiilG1JF"
      },
      "source": [
        "for i in range(X_train.shape[0]):\n",
        "  for j in range(X_train.shape[2]): \n",
        "    Min_train.append(min(X_train[i, :, j]))\n",
        "  np.vstack(Min_train)\n",
        "\n",
        "Min_train = np.array(Min_train)\n",
        "Min_train = Min_train.reshape(X_train.shape[0], 1, X_train.shape[2])"
      ],
      "execution_count": null,
      "outputs": []
    },
    {
      "cell_type": "code",
      "metadata": {
        "id": "y99wh0VDWGzU"
      },
      "source": [
        "for i in range(X_val.shape[0]):\n",
        "  for j in range(X_val.shape[2]): \n",
        "    Min_val.append(min(X_val[i, :, j]))\n",
        "  np.vstack(Min_val)\n",
        "\n",
        "Min_val = np.array(Min_val)\n",
        "Min_val = Min_val.reshape(X_val.shape[0], 1, X_val.shape[2])"
      ],
      "execution_count": null,
      "outputs": []
    },
    {
      "cell_type": "code",
      "metadata": {
        "id": "XKgKJTKLPWJB",
        "colab": {
          "base_uri": "https://localhost:8080/"
        },
        "outputId": "5aa35a2e-3131-45af-bff1-82f1213d7a85"
      },
      "source": [
        "Min_train.shape\n",
        "Min_val.shape"
      ],
      "execution_count": null,
      "outputs": [
        {
          "output_type": "execute_result",
          "data": {
            "text/plain": [
              "(3300, 1, 4)"
            ]
          },
          "metadata": {
            "tags": []
          },
          "execution_count": 18
        }
      ]
    },
    {
      "cell_type": "code",
      "metadata": {
        "id": "Ktdi480nOZDY"
      },
      "source": [
        "for i in range(X_train.shape[0]):\n",
        "  for j in range(X_train.shape[2]): \n",
        "    Max_train.append(max(X_train[i, :, j]))\n",
        "  np.vstack(Max_train)\n",
        "\n",
        "Max_train = np.array(Max_train)\n",
        "Max_train = Max_train.reshape(X_train.shape[0], 1, X_train.shape[2])"
      ],
      "execution_count": null,
      "outputs": []
    },
    {
      "cell_type": "code",
      "metadata": {
        "id": "wFnKtpCQXCoR"
      },
      "source": [
        "for i in range(X_val.shape[0]):\n",
        "  for j in range(X_val.shape[2]): \n",
        "    Max_val.append(max(X_val[i, :, j]))\n",
        "  np.vstack(Max_val)\n",
        "\n",
        "Max_val = np.array(Max_val)\n",
        "Max_val = Max_val.reshape(X_val.shape[0], 1, X_val.shape[2])"
      ],
      "execution_count": null,
      "outputs": []
    },
    {
      "cell_type": "code",
      "metadata": {
        "id": "HI_M4aCpXLVa",
        "colab": {
          "base_uri": "https://localhost:8080/"
        },
        "outputId": "68d417e8-2f7c-411e-8eab-2c5dd3e1c0b8"
      },
      "source": [
        "Max_train.shape\n",
        "Max_val.shape"
      ],
      "execution_count": null,
      "outputs": [
        {
          "output_type": "execute_result",
          "data": {
            "text/plain": [
              "(3300, 1, 4)"
            ]
          },
          "metadata": {
            "tags": []
          },
          "execution_count": 21
        }
      ]
    },
    {
      "cell_type": "code",
      "metadata": {
        "id": "_Req176T-G3U"
      },
      "source": [
        "y_train = (y_train[...,[-1]] - Min_train[...,[-1]]) / (Max_train[...,[-1]] - Min_train[...,[-1]])\n",
        "X_train = (X_train - Min_train) / (Max_train - Min_train)\n",
        "\n",
        "y_val = (y_val[...,[-1]] - Min_val[...,[-1]]) / (Max_val[...,[-1]] - Min_val[...,[-1]])\n",
        "X_val = (X_val - Min_val) / (Max_val - Min_val)"
      ],
      "execution_count": null,
      "outputs": []
    },
    {
      "cell_type": "code",
      "metadata": {
        "id": "oQcMw4MY_7xM"
      },
      "source": [
        "### CREATE TEST WINDOWS ###\n",
        "\n",
        "X_test = create_windows(test[cols], window_shape=window_shape, end_id=-time_h)\n",
        "y_test = create_windows(test_y, window_shape=time_h, start_id=window_shape)"
      ],
      "execution_count": null,
      "outputs": []
    },
    {
      "cell_type": "code",
      "metadata": {
        "id": "whskhn-DWWYa"
      },
      "source": [
        "Min_test = []\n",
        "Max_test = []"
      ],
      "execution_count": null,
      "outputs": []
    },
    {
      "cell_type": "code",
      "metadata": {
        "id": "_j4xn_qEQXGc"
      },
      "source": [
        "for i in range(X_test.shape[0]):\n",
        "  for j in range(X_test.shape[2]): \n",
        "    Min_test.append(min(X_test[i, :, j]))\n",
        "  np.vstack(Min_test)\n",
        "\n",
        "Min_test = np.array(Min_test)\n",
        "Min_test = Min_test.reshape(X_test.shape[0], 1, X_test.shape[2])"
      ],
      "execution_count": null,
      "outputs": []
    },
    {
      "cell_type": "code",
      "metadata": {
        "id": "OEW5shQFQtzU"
      },
      "source": [
        "for i in range(X_test.shape[0]):\n",
        "  for j in range(X_test.shape[2]): \n",
        "    Max_test.append(max(X_test[i, :, j]))\n",
        "  np.vstack(Max_test)\n",
        "\n",
        "Max_test = np.array(Max_test)\n",
        "Max_test = Max_test.reshape(X_test.shape[0], 1, X_test.shape[2])"
      ],
      "execution_count": null,
      "outputs": []
    },
    {
      "cell_type": "code",
      "metadata": {
        "id": "uT-_99NeWUfp",
        "colab": {
          "base_uri": "https://localhost:8080/"
        },
        "outputId": "2da55a66-b91e-49c2-b2c4-09a8b57cbdb0"
      },
      "source": [
        "X_test = (X_test - Min_test) / (Max_test - Min_test)\n",
        "y_test = np.squeeze(y_test[...,[-1]], -1)\n",
        "\n",
        "X_test.shape, y_test.shape"
      ],
      "execution_count": null,
      "outputs": [
        {
          "output_type": "execute_result",
          "data": {
            "text/plain": [
              "((80, 3, 4), (80, 1))"
            ]
          },
          "metadata": {
            "tags": []
          },
          "execution_count": 27
        }
      ]
    },
    {
      "cell_type": "code",
      "metadata": {
        "id": "rPiewYhq_8TM"
      },
      "source": [
        "def get_model_mse(param):\n",
        "    \n",
        "    inp = Input((window_shape,len(cols)))\n",
        "    enc = LSTM(param['lstm_unit'], activation=param['lstm_act'], \n",
        "               return_sequences=False)(inp)\n",
        "    x = RepeatVector(time_h)(enc)\n",
        "    \n",
        "    out = Dense(1)(x)\n",
        "    \n",
        "    model = Model(inp, out)\n",
        "    model.compile(Adam(lr=param['lr']), 'mse')\n",
        "    \n",
        "    return model"
      ],
      "execution_count": null,
      "outputs": []
    },
    {
      "cell_type": "code",
      "metadata": {
        "id": "LFbFdzNs_-J9",
        "colab": {
          "base_uri": "https://localhost:8080/"
        },
        "outputId": "6bd8fcea-9c5e-463d-f330-967dfcb46b18"
      },
      "source": [
        "param_grid = {\n",
        "    'lstm_unit': [128,64], \n",
        "    'lstm_act': ['tanh'],\n",
        "    'lr': [1e-4,1e-3], \n",
        "    'epochs': 100, \n",
        "    'batch_size': [16,32,128]\n",
        "}\n",
        "\n",
        "es = EarlyStopping(patience=10, verbose=1, min_delta=0.001, monitor='val_loss', mode='auto', restore_best_weights=True)\n",
        "hypermodel_mse = get_model_mse\n",
        "kgs_mse = KerasGridSearch(hypermodel_mse, param_grid, monitor='val_loss', greater_is_better=False, tuner_verbose=1)\n",
        "kgs_mse.search(X_train, y_train, validation_data=(X_val, y_val), callbacks=[es])"
      ],
      "execution_count": null,
      "outputs": [
        {
          "output_type": "stream",
          "text": [
            "\n",
            "12 trials detected for ('lstm_unit', 'lstm_act', 'lr', 'epochs', 'batch_size')\n"
          ],
          "name": "stdout"
        },
        {
          "output_type": "stream",
          "text": [
            "/usr/local/lib/python3.7/dist-packages/tensorflow/python/keras/optimizer_v2/optimizer_v2.py:375: UserWarning: The `lr` argument is deprecated, use `learning_rate` instead.\n",
            "  \"The `lr` argument is deprecated, use `learning_rate` instead.\")\n"
          ],
          "name": "stderr"
        },
        {
          "output_type": "stream",
          "text": [
            "\n",
            "***** (1/12) *****\n",
            "Search({'lstm_unit': 128, 'lstm_act': 'tanh', 'lr': 0.0001, 'epochs': 100, 'batch_size': 16})\n",
            "SCORE: 2.4776 at epoch 100\n",
            "\n",
            "***** (2/12) *****\n",
            "Search({'lstm_unit': 128, 'lstm_act': 'tanh', 'lr': 0.0001, 'epochs': 100, 'batch_size': 32})\n",
            "SCORE: 2.51038 at epoch 100\n",
            "\n",
            "***** (3/12) *****\n",
            "Search({'lstm_unit': 128, 'lstm_act': 'tanh', 'lr': 0.0001, 'epochs': 100, 'batch_size': 128})\n",
            "SCORE: 2.56514 at epoch 100\n",
            "\n",
            "***** (4/12) *****\n",
            "Search({'lstm_unit': 128, 'lstm_act': 'tanh', 'lr': 0.001, 'epochs': 100, 'batch_size': 16})\n",
            "SCORE: 2.38115 at epoch 97\n",
            "\n",
            "***** (5/12) *****\n",
            "Search({'lstm_unit': 128, 'lstm_act': 'tanh', 'lr': 0.001, 'epochs': 100, 'batch_size': 32})\n",
            "SCORE: 2.38502 at epoch 100\n",
            "\n",
            "***** (6/12) *****\n",
            "Search({'lstm_unit': 128, 'lstm_act': 'tanh', 'lr': 0.001, 'epochs': 100, 'batch_size': 128})\n",
            "SCORE: 2.4067 at epoch 100\n",
            "\n",
            "***** (7/12) *****\n",
            "Search({'lstm_unit': 64, 'lstm_act': 'tanh', 'lr': 0.0001, 'epochs': 100, 'batch_size': 16})\n",
            "SCORE: 2.49306 at epoch 100\n",
            "\n",
            "***** (8/12) *****\n",
            "Search({'lstm_unit': 64, 'lstm_act': 'tanh', 'lr': 0.0001, 'epochs': 100, 'batch_size': 32})\n",
            "SCORE: 2.52162 at epoch 100\n",
            "\n",
            "***** (9/12) *****\n",
            "Search({'lstm_unit': 64, 'lstm_act': 'tanh', 'lr': 0.0001, 'epochs': 100, 'batch_size': 128})\n",
            "SCORE: 2.59116 at epoch 100\n",
            "\n",
            "***** (10/12) *****\n",
            "Search({'lstm_unit': 64, 'lstm_act': 'tanh', 'lr': 0.001, 'epochs': 100, 'batch_size': 16})\n",
            "SCORE: 2.3948 at epoch 100\n",
            "\n",
            "***** (11/12) *****\n",
            "Search({'lstm_unit': 64, 'lstm_act': 'tanh', 'lr': 0.001, 'epochs': 100, 'batch_size': 32})\n",
            "SCORE: 2.40047 at epoch 98\n",
            "\n",
            "***** (12/12) *****\n",
            "Search({'lstm_unit': 64, 'lstm_act': 'tanh', 'lr': 0.001, 'epochs': 100, 'batch_size': 128})\n",
            "SCORE: 2.4379 at epoch 100\n"
          ],
          "name": "stdout"
        },
        {
          "output_type": "execute_result",
          "data": {
            "text/plain": [
              "<kerashypetune.KerasGridSearch>"
            ]
          },
          "metadata": {
            "tags": []
          },
          "execution_count": 29
        }
      ]
    },
    {
      "cell_type": "code",
      "metadata": {
        "id": "bTDOztpAAE03",
        "colab": {
          "base_uri": "https://localhost:8080/"
        },
        "outputId": "04532f5c-5fc1-4e17-e123-fc4425a7aac7"
      },
      "source": [
        "pred_boot_mse = kgs_mse.best_model.predict(X_test)\n",
        "pred_boot_mse"
      ],
      "execution_count": null,
      "outputs": [
        {
          "output_type": "execute_result",
          "data": {
            "text/plain": [
              "array([[[ 0.85669374]],\n",
              "\n",
              "       [[ 0.23435351]],\n",
              "\n",
              "       [[-0.16734967]],\n",
              "\n",
              "       [[-0.13851397]],\n",
              "\n",
              "       [[ 0.24573132]],\n",
              "\n",
              "       [[ 1.3394113 ]],\n",
              "\n",
              "       [[ 0.68009377]],\n",
              "\n",
              "       [[ 0.7487875 ]],\n",
              "\n",
              "       [[ 0.46420735]],\n",
              "\n",
              "       [[-0.1218864 ]],\n",
              "\n",
              "       [[-0.25433007]],\n",
              "\n",
              "       [[-0.19119245]],\n",
              "\n",
              "       [[ 1.2806112 ]],\n",
              "\n",
              "       [[ 1.3584063 ]],\n",
              "\n",
              "       [[ 0.6628325 ]],\n",
              "\n",
              "       [[ 0.04713486]],\n",
              "\n",
              "       [[-0.27016327]],\n",
              "\n",
              "       [[-0.20938328]],\n",
              "\n",
              "       [[-0.10679021]],\n",
              "\n",
              "       [[ 1.065392  ]],\n",
              "\n",
              "       [[ 1.2650342 ]],\n",
              "\n",
              "       [[ 1.1792496 ]],\n",
              "\n",
              "       [[ 0.5065727 ]],\n",
              "\n",
              "       [[-0.17100981]],\n",
              "\n",
              "       [[-0.15685526]],\n",
              "\n",
              "       [[ 0.18841635]],\n",
              "\n",
              "       [[ 1.292865  ]],\n",
              "\n",
              "       [[ 1.4332685 ]],\n",
              "\n",
              "       [[ 0.69192535]],\n",
              "\n",
              "       [[-0.06118432]],\n",
              "\n",
              "       [[-0.1672003 ]],\n",
              "\n",
              "       [[-0.16375631]],\n",
              "\n",
              "       [[ 0.21080178]],\n",
              "\n",
              "       [[ 1.2730932 ]],\n",
              "\n",
              "       [[ 1.2526493 ]],\n",
              "\n",
              "       [[ 0.60342073]],\n",
              "\n",
              "       [[ 0.14045377]],\n",
              "\n",
              "       [[-0.08625948]],\n",
              "\n",
              "       [[-0.21331456]],\n",
              "\n",
              "       [[ 0.03369093]],\n",
              "\n",
              "       [[ 1.2778487 ]],\n",
              "\n",
              "       [[ 1.4216886 ]],\n",
              "\n",
              "       [[ 0.677123  ]],\n",
              "\n",
              "       [[ 0.45516592]],\n",
              "\n",
              "       [[-0.18760341]],\n",
              "\n",
              "       [[-0.24871463]],\n",
              "\n",
              "       [[ 0.38431555]],\n",
              "\n",
              "       [[ 1.2792851 ]],\n",
              "\n",
              "       [[ 1.3156683 ]],\n",
              "\n",
              "       [[ 0.5938161 ]],\n",
              "\n",
              "       [[ 0.778048  ]],\n",
              "\n",
              "       [[ 0.1402285 ]],\n",
              "\n",
              "       [[-0.10699576]],\n",
              "\n",
              "       [[ 0.5531459 ]],\n",
              "\n",
              "       [[ 1.4338638 ]],\n",
              "\n",
              "       [[ 1.3781214 ]],\n",
              "\n",
              "       [[ 0.81807935]],\n",
              "\n",
              "       [[ 0.4842201 ]],\n",
              "\n",
              "       [[-0.1606326 ]],\n",
              "\n",
              "       [[-0.23160085]],\n",
              "\n",
              "       [[-0.3214241 ]],\n",
              "\n",
              "       [[ 1.2989166 ]],\n",
              "\n",
              "       [[ 1.2621129 ]],\n",
              "\n",
              "       [[ 1.2351141 ]],\n",
              "\n",
              "       [[ 0.49535376]],\n",
              "\n",
              "       [[-0.0631434 ]],\n",
              "\n",
              "       [[-0.32596686]],\n",
              "\n",
              "       [[-0.18350014]],\n",
              "\n",
              "       [[ 0.57850033]],\n",
              "\n",
              "       [[ 1.3908226 ]],\n",
              "\n",
              "       [[ 1.1626856 ]],\n",
              "\n",
              "       [[ 1.1240175 ]],\n",
              "\n",
              "       [[ 0.5473772 ]],\n",
              "\n",
              "       [[-0.2237652 ]],\n",
              "\n",
              "       [[-0.26401472]],\n",
              "\n",
              "       [[ 0.55186945]],\n",
              "\n",
              "       [[ 1.3085339 ]],\n",
              "\n",
              "       [[ 1.2980443 ]],\n",
              "\n",
              "       [[-0.23926052]],\n",
              "\n",
              "       [[ 0.47217178]]], dtype=float32)"
            ]
          },
          "metadata": {
            "tags": []
          },
          "execution_count": 30
        }
      ]
    },
    {
      "cell_type": "code",
      "metadata": {
        "id": "BHtRxBmaonbz"
      },
      "source": [
        "pred_boot_mse = np.squeeze(pred_boot_mse, -1)"
      ],
      "execution_count": null,
      "outputs": []
    },
    {
      "cell_type": "code",
      "metadata": {
        "id": "qqBLMSY3cA-x"
      },
      "source": [
        "pred_boot_mse = ((Max_test[:, :, 3] - Min_test[:, :, 3]) * pred_boot_mse) + Min_test[:, :, 3]"
      ],
      "execution_count": null,
      "outputs": []
    },
    {
      "cell_type": "code",
      "metadata": {
        "id": "d6CQqKc96_m3"
      },
      "source": [
        "pd.DataFrame(pred_boot_mse).to_csv(\"/content/drive/MyDrive/paper/health/PredictionData_boot_health_w3day_mse.csv\")\n",
        "pd.DataFrame(y_test).to_csv(\"/content/drive/MyDrive/paper/health/TrueData_boot_health_w3day.csv\")"
      ],
      "execution_count": null,
      "outputs": []
    },
    {
      "cell_type": "code",
      "metadata": {
        "id": "y9GhSyr1vqY2"
      },
      "source": [
        "def get_model_mae(param):\n",
        "    \n",
        "    inp = Input((window_shape,len(cols)))\n",
        "    enc = LSTM(param['lstm_unit'], activation=param['lstm_act'], \n",
        "               return_sequences=False)(inp)\n",
        "    x = RepeatVector(time_h)(enc)\n",
        "    \n",
        "    out = Dense(1)(x)\n",
        "    \n",
        "    model = Model(inp, out)\n",
        "    model.compile(Adam(lr=param['lr']), 'mae')\n",
        "    \n",
        "    return model"
      ],
      "execution_count": null,
      "outputs": []
    },
    {
      "cell_type": "code",
      "metadata": {
        "id": "WzWIC5_ZOzxs",
        "colab": {
          "base_uri": "https://localhost:8080/"
        },
        "outputId": "954785b6-2863-49ed-fbd1-cbe74acbac63"
      },
      "source": [
        "hypermodel_mae = get_model_mae\n",
        "kgs_mae = KerasGridSearch(hypermodel_mae, param_grid, monitor='val_loss', greater_is_better=False, tuner_verbose=1)\n",
        "kgs_mae.search(X_train, y_train, validation_data=(X_val, y_val), callbacks=[es])"
      ],
      "execution_count": null,
      "outputs": [
        {
          "output_type": "stream",
          "text": [
            "\n",
            "12 trials detected for ('lstm_unit', 'lstm_act', 'lr', 'epochs', 'batch_size')\n",
            "\n",
            "***** (1/12) *****\n",
            "Search({'lstm_unit': 128, 'lstm_act': 'tanh', 'lr': 0.0001, 'epochs': 100, 'batch_size': 16})\n"
          ],
          "name": "stdout"
        },
        {
          "output_type": "stream",
          "text": [
            "/usr/local/lib/python3.7/dist-packages/tensorflow/python/keras/optimizer_v2/optimizer_v2.py:375: UserWarning: The `lr` argument is deprecated, use `learning_rate` instead.\n",
            "  \"The `lr` argument is deprecated, use `learning_rate` instead.\")\n"
          ],
          "name": "stderr"
        },
        {
          "output_type": "stream",
          "text": [
            "SCORE: 0.91847 at epoch 100\n",
            "\n",
            "***** (2/12) *****\n",
            "Search({'lstm_unit': 128, 'lstm_act': 'tanh', 'lr': 0.0001, 'epochs': 100, 'batch_size': 32})\n",
            "SCORE: 0.92435 at epoch 100\n",
            "\n",
            "***** (3/12) *****\n",
            "Search({'lstm_unit': 128, 'lstm_act': 'tanh', 'lr': 0.0001, 'epochs': 100, 'batch_size': 128})\n",
            "SCORE: 0.95114 at epoch 100\n",
            "\n",
            "***** (4/12) *****\n",
            "Search({'lstm_unit': 128, 'lstm_act': 'tanh', 'lr': 0.001, 'epochs': 100, 'batch_size': 16})\n",
            "Restoring model weights from the end of the best epoch.\n",
            "Epoch 00049: early stopping\n",
            "SCORE: 0.91016 at epoch 49\n",
            "\n",
            "***** (5/12) *****\n",
            "Search({'lstm_unit': 128, 'lstm_act': 'tanh', 'lr': 0.001, 'epochs': 100, 'batch_size': 32})\n",
            "Restoring model weights from the end of the best epoch.\n",
            "Epoch 00070: early stopping\n",
            "SCORE: 0.91167 at epoch 70\n",
            "\n",
            "***** (6/12) *****\n",
            "Search({'lstm_unit': 128, 'lstm_act': 'tanh', 'lr': 0.001, 'epochs': 100, 'batch_size': 128})\n",
            "Restoring model weights from the end of the best epoch.\n",
            "Epoch 00076: early stopping\n",
            "SCORE: 0.91418 at epoch 76\n",
            "\n",
            "***** (7/12) *****\n",
            "Search({'lstm_unit': 64, 'lstm_act': 'tanh', 'lr': 0.0001, 'epochs': 100, 'batch_size': 16})\n",
            "SCORE: 0.9274 at epoch 100\n",
            "\n",
            "***** (8/12) *****\n",
            "Search({'lstm_unit': 64, 'lstm_act': 'tanh', 'lr': 0.0001, 'epochs': 100, 'batch_size': 32})\n",
            "SCORE: 0.93323 at epoch 100\n",
            "\n",
            "***** (9/12) *****\n",
            "Search({'lstm_unit': 64, 'lstm_act': 'tanh', 'lr': 0.0001, 'epochs': 100, 'batch_size': 128})\n",
            "SCORE: 0.95858 at epoch 100\n",
            "\n",
            "***** (10/12) *****\n",
            "Search({'lstm_unit': 64, 'lstm_act': 'tanh', 'lr': 0.001, 'epochs': 100, 'batch_size': 16})\n",
            "Restoring model weights from the end of the best epoch.\n",
            "Epoch 00050: early stopping\n",
            "SCORE: 0.90919 at epoch 50\n",
            "\n",
            "***** (11/12) *****\n",
            "Search({'lstm_unit': 64, 'lstm_act': 'tanh', 'lr': 0.001, 'epochs': 100, 'batch_size': 32})\n",
            "Restoring model weights from the end of the best epoch.\n",
            "Epoch 00058: early stopping\n",
            "SCORE: 0.91104 at epoch 58\n",
            "\n",
            "***** (12/12) *****\n",
            "Search({'lstm_unit': 64, 'lstm_act': 'tanh', 'lr': 0.001, 'epochs': 100, 'batch_size': 128})\n",
            "Restoring model weights from the end of the best epoch.\n",
            "Epoch 00088: early stopping\n",
            "SCORE: 0.91458 at epoch 87\n"
          ],
          "name": "stdout"
        },
        {
          "output_type": "execute_result",
          "data": {
            "text/plain": [
              "<kerashypetune.KerasGridSearch>"
            ]
          },
          "metadata": {
            "tags": []
          },
          "execution_count": 35
        }
      ]
    },
    {
      "cell_type": "code",
      "metadata": {
        "id": "G_6JRFCvO3hV",
        "colab": {
          "base_uri": "https://localhost:8080/"
        },
        "outputId": "e4573e0b-393b-42d5-dc76-301fe201d160"
      },
      "source": [
        "pred_boot_mae = kgs_mae.best_model.predict(X_test)\n",
        "pred_boot_mae"
      ],
      "execution_count": null,
      "outputs": [
        {
          "output_type": "execute_result",
          "data": {
            "text/plain": [
              "array([[[ 0.96021134]],\n",
              "\n",
              "       [[ 0.35687274]],\n",
              "\n",
              "       [[ 0.13333248]],\n",
              "\n",
              "       [[ 0.10841422]],\n",
              "\n",
              "       [[ 0.3520019 ]],\n",
              "\n",
              "       [[ 1.1336124 ]],\n",
              "\n",
              "       [[ 0.5154798 ]],\n",
              "\n",
              "       [[ 0.5410745 ]],\n",
              "\n",
              "       [[ 0.5917339 ]],\n",
              "\n",
              "       [[ 0.14362906]],\n",
              "\n",
              "       [[-0.01624044]],\n",
              "\n",
              "       [[-0.03862163]],\n",
              "\n",
              "       [[ 1.0156362 ]],\n",
              "\n",
              "       [[ 1.2348374 ]],\n",
              "\n",
              "       [[ 0.7462013 ]],\n",
              "\n",
              "       [[ 0.22021362]],\n",
              "\n",
              "       [[ 0.00630273]],\n",
              "\n",
              "       [[ 0.04117056]],\n",
              "\n",
              "       [[ 0.03564389]],\n",
              "\n",
              "       [[ 0.8074809 ]],\n",
              "\n",
              "       [[ 1.0696121 ]],\n",
              "\n",
              "       [[ 1.0726005 ]],\n",
              "\n",
              "       [[ 0.55640656]],\n",
              "\n",
              "       [[ 0.08035687]],\n",
              "\n",
              "       [[ 0.0881509 ]],\n",
              "\n",
              "       [[ 0.29355997]],\n",
              "\n",
              "       [[ 1.0793962 ]],\n",
              "\n",
              "       [[ 1.2862637 ]],\n",
              "\n",
              "       [[ 0.69743073]],\n",
              "\n",
              "       [[ 0.10928947]],\n",
              "\n",
              "       [[ 0.0995107 ]],\n",
              "\n",
              "       [[ 0.08632605]],\n",
              "\n",
              "       [[ 0.2577685 ]],\n",
              "\n",
              "       [[ 1.0645189 ]],\n",
              "\n",
              "       [[ 1.1319528 ]],\n",
              "\n",
              "       [[ 0.781264  ]],\n",
              "\n",
              "       [[ 0.24840714]],\n",
              "\n",
              "       [[ 0.13662858]],\n",
              "\n",
              "       [[ 0.03164851]],\n",
              "\n",
              "       [[ 0.14707936]],\n",
              "\n",
              "       [[ 1.0430295 ]],\n",
              "\n",
              "       [[ 1.2624507 ]],\n",
              "\n",
              "       [[ 0.7409807 ]],\n",
              "\n",
              "       [[ 0.6554716 ]],\n",
              "\n",
              "       [[ 0.10480727]],\n",
              "\n",
              "       [[-0.00135018]],\n",
              "\n",
              "       [[ 0.39699328]],\n",
              "\n",
              "       [[ 1.0544018 ]],\n",
              "\n",
              "       [[ 1.2030432 ]],\n",
              "\n",
              "       [[ 0.7413896 ]],\n",
              "\n",
              "       [[ 0.8670098 ]],\n",
              "\n",
              "       [[ 0.3805653 ]],\n",
              "\n",
              "       [[ 0.13949928]],\n",
              "\n",
              "       [[ 0.61229616]],\n",
              "\n",
              "       [[ 1.2009714 ]],\n",
              "\n",
              "       [[ 1.2096946 ]],\n",
              "\n",
              "       [[ 0.8765889 ]],\n",
              "\n",
              "       [[ 0.5714827 ]],\n",
              "\n",
              "       [[ 0.10284188]],\n",
              "\n",
              "       [[ 0.00660935]],\n",
              "\n",
              "       [[-0.1517212 ]],\n",
              "\n",
              "       [[ 1.0094969 ]],\n",
              "\n",
              "       [[ 1.0783279 ]],\n",
              "\n",
              "       [[ 1.1142352 ]],\n",
              "\n",
              "       [[ 0.6489626 ]],\n",
              "\n",
              "       [[ 0.14119129]],\n",
              "\n",
              "       [[-0.07267676]],\n",
              "\n",
              "       [[ 0.08663674]],\n",
              "\n",
              "       [[ 0.6560537 ]],\n",
              "\n",
              "       [[ 1.1567056 ]],\n",
              "\n",
              "       [[ 1.0547235 ]],\n",
              "\n",
              "       [[ 1.0681113 ]],\n",
              "\n",
              "       [[ 0.62246895]],\n",
              "\n",
              "       [[ 0.07130508]],\n",
              "\n",
              "       [[-0.01594047]],\n",
              "\n",
              "       [[ 0.5406669 ]],\n",
              "\n",
              "       [[ 1.0818615 ]],\n",
              "\n",
              "       [[ 1.180945  ]],\n",
              "\n",
              "       [[-0.04160937]],\n",
              "\n",
              "       [[ 0.42993942]]], dtype=float32)"
            ]
          },
          "metadata": {
            "tags": []
          },
          "execution_count": 36
        }
      ]
    },
    {
      "cell_type": "code",
      "metadata": {
        "id": "V4qioMKsO-19"
      },
      "source": [
        "pred_boot_mae = np.squeeze(pred_boot_mae, -1)"
      ],
      "execution_count": null,
      "outputs": []
    },
    {
      "cell_type": "code",
      "metadata": {
        "id": "lnyK_q_5PCFx"
      },
      "source": [
        "pred_boot_mae = ((Max_test[:, :, 3] - Min_test[:, :, 3]) * pred_boot_mae) + Min_test[:, :, 3]"
      ],
      "execution_count": null,
      "outputs": []
    },
    {
      "cell_type": "code",
      "metadata": {
        "id": "cIE9skaCPD_Y"
      },
      "source": [
        "pd.DataFrame(pred_boot_mae).to_csv(\"/content/drive/MyDrive/paper/health/PredictionData_boot_health_w3day_mae.csv\")"
      ],
      "execution_count": null,
      "outputs": []
    },
    {
      "cell_type": "code",
      "metadata": {
        "id": "trwxjSZyLjki",
        "colab": {
          "base_uri": "https://localhost:8080/"
        },
        "outputId": "c134b65b-ce7b-428e-d63a-6c30ca5dde14"
      },
      "source": [
        "kgs_mae.best_model.save(\"/content/drive/MyDrive/paper/feature_importance/health/Data_augmentation/w3day\")"
      ],
      "execution_count": null,
      "outputs": [
        {
          "output_type": "stream",
          "text": [
            "INFO:tensorflow:Assets written to: /content/drive/MyDrive/paper/feature_importance/health/Data_augmentation/w3day/assets\n"
          ],
          "name": "stdout"
        }
      ]
    },
    {
      "cell_type": "code",
      "metadata": {
        "id": "95nIRq_pLlZO"
      },
      "source": [
        "# import pickle\n",
        "with open('/content/drive/MyDrive/paper/feature_importance/health/Data_augmentation/w3day/X_test_health_w3day.pkl', 'wb') as f:\n",
        "    pickle.dump(X_test, f)\n",
        "with open('/content/drive/MyDrive/paper/feature_importance/health/Data_augmentation/w3day/cols_health_w3day.pkl', 'wb') as f:\n",
        "    pickle.dump(cols, f)"
      ],
      "execution_count": null,
      "outputs": []
    }
  ]
}
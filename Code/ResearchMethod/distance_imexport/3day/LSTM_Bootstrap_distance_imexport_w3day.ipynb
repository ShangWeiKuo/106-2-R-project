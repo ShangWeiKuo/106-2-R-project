{
  "nbformat": 4,
  "nbformat_minor": 0,
  "metadata": {
    "colab": {
      "name": "LSTM_Bootstrap_distance_imexport_w3day.ipynb",
      "provenance": [],
      "collapsed_sections": [],
      "include_colab_link": true
    },
    "kernelspec": {
      "name": "python3",
      "display_name": "Python 3"
    },
    "language_info": {
      "name": "python"
    }
  },
  "cells": [
    {
      "cell_type": "markdown",
      "metadata": {
        "id": "view-in-github",
        "colab_type": "text"
      },
      "source": [
        "<a href=\"https://colab.research.google.com/github/ShangWeiKuo/106-2-R-project/blob/master/Code/ResearchMethod/distance_imexport/3day/LSTM_Bootstrap_distance_imexport_w3day.ipynb\" target=\"_parent\"><img src=\"https://colab.research.google.com/assets/colab-badge.svg\" alt=\"Open In Colab\"/></a>"
      ]
    },
    {
      "cell_type": "code",
      "metadata": {
        "id": "ZgUWb4-5Pvvw",
        "colab": {
          "base_uri": "https://localhost:8080/"
        },
        "outputId": "3f6921a1-bc6b-46a3-ef5e-00179e614376"
      },
      "source": [
        "from google.colab import drive\n",
        "drive.mount('/content/drive')"
      ],
      "execution_count": null,
      "outputs": [
        {
          "output_type": "stream",
          "text": [
            "Mounted at /content/drive\n"
          ],
          "name": "stdout"
        }
      ]
    },
    {
      "cell_type": "code",
      "metadata": {
        "id": "RBuyy-fV-yI-",
        "colab": {
          "base_uri": "https://localhost:8080/"
        },
        "outputId": "d1cd5c97-158f-4a4a-a9f0-e6ed090eb7bc"
      },
      "source": [
        "!pip install tsmoothie\n",
        "!pip install keras-hypetune"
      ],
      "execution_count": null,
      "outputs": [
        {
          "output_type": "stream",
          "text": [
            "Collecting tsmoothie\n",
            "  Downloading tsmoothie-1.0.4-py3-none-any.whl (21 kB)\n",
            "Requirement already satisfied: numpy in /usr/local/lib/python3.7/dist-packages (from tsmoothie) (1.19.5)\n",
            "Requirement already satisfied: scipy in /usr/local/lib/python3.7/dist-packages (from tsmoothie) (1.4.1)\n",
            "Collecting simdkalman\n",
            "  Downloading simdkalman-1.0.1-py2.py3-none-any.whl (11 kB)\n",
            "Installing collected packages: simdkalman, tsmoothie\n",
            "Successfully installed simdkalman-1.0.1 tsmoothie-1.0.4\n",
            "Collecting keras-hypetune\n",
            "  Downloading keras_hypetune-0.1.2-py3-none-any.whl (10 kB)\n",
            "Requirement already satisfied: numpy in /usr/local/lib/python3.7/dist-packages (from keras-hypetune) (1.19.5)\n",
            "Installing collected packages: keras-hypetune\n",
            "Successfully installed keras-hypetune-0.1.2\n"
          ],
          "name": "stdout"
        }
      ]
    },
    {
      "cell_type": "code",
      "metadata": {
        "id": "Jxy_sXA2_TDg"
      },
      "source": [
        "import os\n",
        "import random\n",
        "import numpy as np\n",
        "import pandas as pd\n",
        "import seaborn as sns\n",
        "import matplotlib.pyplot as plt\n",
        "\n",
        "from tsmoothie.smoother import *\n",
        "from tsmoothie.utils_func import create_windows\n",
        "\n",
        "from sklearn.model_selection import train_test_split\n",
        "from sklearn.metrics import mean_squared_error as mse\n",
        "\n",
        "import tensorflow as tf\n",
        "from tensorflow.keras.layers import *\n",
        "from tensorflow.keras.models import *\n",
        "from tensorflow.keras.callbacks import *\n",
        "from tensorflow.keras.optimizers import *\n",
        "from keras.callbacks import EarlyStopping\n",
        "from keras.layers import LSTM\n",
        "from keras.optimizers import Adam\n",
        "from kerashypetune import KerasGridSearch\n",
        "from pandas import read_csv\n",
        "from pandas import DataFrame\n",
        "\n",
        "import numpy as np\n",
        "import pickle"
      ],
      "execution_count": null,
      "outputs": []
    },
    {
      "cell_type": "code",
      "metadata": {
        "id": "ZDxE2qWL_V2g"
      },
      "source": [
        "window_shape = 3\n",
        "time_h = 1"
      ],
      "execution_count": null,
      "outputs": []
    },
    {
      "cell_type": "code",
      "metadata": {
        "id": "ji7A6FwL_YPh"
      },
      "source": [
        "import rpy2 \n",
        "%load_ext rpy2.ipython"
      ],
      "execution_count": null,
      "outputs": []
    },
    {
      "cell_type": "code",
      "metadata": {
        "id": "yd2QxLbk_Z0R",
        "colab": {
          "base_uri": "https://localhost:8080/"
        },
        "outputId": "3d702d18-007b-44d7-9228-c895b07d2e6a"
      },
      "source": [
        "%%R\n",
        "require(readr)\n",
        "require(dplyr)\n",
        "df = read_csv(\"/content/drive/MyDrive/paper/raw_covid_data.csv\")"
      ],
      "execution_count": null,
      "outputs": [
        {
          "output_type": "stream",
          "text": [
            "R[write to console]: Loading required package: readr\n",
            "\n",
            "R[write to console]: Loading required package: dplyr\n",
            "\n",
            "R[write to console]: \n",
            "Attaching package: ‘dplyr’\n",
            "\n",
            "\n",
            "R[write to console]: The following objects are masked from ‘package:stats’:\n",
            "\n",
            "    filter, lag\n",
            "\n",
            "\n",
            "R[write to console]: The following objects are masked from ‘package:base’:\n",
            "\n",
            "    intersect, setdiff, setequal, union\n",
            "\n",
            "\n"
          ],
          "name": "stderr"
        },
        {
          "output_type": "stream",
          "text": [
            "\n",
            "── Column specification ────────────────────────────────────────────────────────\n",
            "cols(\n",
            "  positive = col_double(),\n",
            "  death = col_double(),\n",
            "  new_test = col_double(),\n",
            "  new_case = col_double(),\n",
            "  dis_less_one = col_double(),\n",
            "  dis_one_twtf = col_double(),\n",
            "  dis_twtf_hum = col_double(),\n",
            "  dis_higher_hum = col_double(),\n",
            "  passenger_d_volume = col_double(),\n",
            "  passenger_i_volume = col_double(),\n",
            "  person_screened_number = col_double()\n",
            ")\n",
            "\n"
          ],
          "name": "stdout"
        }
      ]
    },
    {
      "cell_type": "code",
      "metadata": {
        "id": "xoNEYfRO_bQT",
        "colab": {
          "base_uri": "https://localhost:8080/"
        },
        "outputId": "76e39901-6445-46b3-ee86-b69566a8b38f"
      },
      "source": [
        "%%R\n",
        "install.packages(\"forecast\"); library(forecast)"
      ],
      "execution_count": null,
      "outputs": [
        {
          "output_type": "stream",
          "text": [
            "R[write to console]: Installing package into ‘/usr/local/lib/R/site-library’\n",
            "(as ‘lib’ is unspecified)\n",
            "\n",
            "R[write to console]: also installing the dependencies ‘xts’, ‘TTR’, ‘quadprog’, ‘quantmod’, ‘fracdiff’, ‘lmtest’, ‘timeDate’, ‘tseries’, ‘urca’, ‘zoo’, ‘RcppArmadillo’\n",
            "\n",
            "\n",
            "R[write to console]: trying URL 'https://cran.rstudio.com/src/contrib/xts_0.12.1.tar.gz'\n",
            "\n",
            "R[write to console]: Content type 'application/x-gzip'\n",
            "R[write to console]:  length 517875 bytes (505 KB)\n",
            "\n",
            "R[write to console]: =\n",
            "R[write to console]: =\n",
            "R[write to console]: =\n",
            "R[write to console]: =\n",
            "R[write to console]: =\n",
            "R[write to console]: =\n",
            "R[write to console]: =\n",
            "R[write to console]: =\n",
            "R[write to console]: =\n",
            "R[write to console]: =\n",
            "R[write to console]: =\n",
            "R[write to console]: =\n",
            "R[write to console]: =\n",
            "R[write to console]: =\n",
            "R[write to console]: =\n",
            "R[write to console]: =\n",
            "R[write to console]: =\n",
            "R[write to console]: =\n",
            "R[write to console]: =\n",
            "R[write to console]: =\n",
            "R[write to console]: =\n",
            "R[write to console]: =\n",
            "R[write to console]: =\n",
            "R[write to console]: =\n",
            "R[write to console]: =\n",
            "R[write to console]: =\n",
            "R[write to console]: =\n",
            "R[write to console]: =\n",
            "R[write to console]: =\n",
            "R[write to console]: =\n",
            "R[write to console]: =\n",
            "R[write to console]: =\n",
            "R[write to console]: =\n",
            "R[write to console]: =\n",
            "R[write to console]: =\n",
            "R[write to console]: =\n",
            "R[write to console]: =\n",
            "R[write to console]: =\n",
            "R[write to console]: =\n",
            "R[write to console]: =\n",
            "R[write to console]: =\n",
            "R[write to console]: =\n",
            "R[write to console]: =\n",
            "R[write to console]: =\n",
            "R[write to console]: =\n",
            "R[write to console]: =\n",
            "R[write to console]: =\n",
            "R[write to console]: =\n",
            "R[write to console]: =\n",
            "R[write to console]: =\n",
            "R[write to console]: \n",
            "\n",
            "R[write to console]: downloaded 505 KB\n",
            "\n",
            "\n",
            "R[write to console]: trying URL 'https://cran.rstudio.com/src/contrib/TTR_0.24.2.tar.gz'\n",
            "\n",
            "R[write to console]: Content type 'application/x-gzip'\n",
            "R[write to console]:  length 314035 bytes (306 KB)\n",
            "\n",
            "R[write to console]: =\n",
            "R[write to console]: =\n",
            "R[write to console]: =\n",
            "R[write to console]: =\n",
            "R[write to console]: =\n",
            "R[write to console]: =\n",
            "R[write to console]: =\n",
            "R[write to console]: =\n",
            "R[write to console]: =\n",
            "R[write to console]: =\n",
            "R[write to console]: =\n",
            "R[write to console]: =\n",
            "R[write to console]: =\n",
            "R[write to console]: =\n",
            "R[write to console]: =\n",
            "R[write to console]: =\n",
            "R[write to console]: =\n",
            "R[write to console]: =\n",
            "R[write to console]: =\n",
            "R[write to console]: =\n",
            "R[write to console]: =\n",
            "R[write to console]: =\n",
            "R[write to console]: =\n",
            "R[write to console]: =\n",
            "R[write to console]: =\n",
            "R[write to console]: =\n",
            "R[write to console]: =\n",
            "R[write to console]: =\n",
            "R[write to console]: =\n",
            "R[write to console]: =\n",
            "R[write to console]: =\n",
            "R[write to console]: =\n",
            "R[write to console]: =\n",
            "R[write to console]: =\n",
            "R[write to console]: =\n",
            "R[write to console]: =\n",
            "R[write to console]: =\n",
            "R[write to console]: =\n",
            "R[write to console]: =\n",
            "R[write to console]: =\n",
            "R[write to console]: =\n",
            "R[write to console]: =\n",
            "R[write to console]: =\n",
            "R[write to console]: =\n",
            "R[write to console]: =\n",
            "R[write to console]: =\n",
            "R[write to console]: =\n",
            "R[write to console]: =\n",
            "R[write to console]: =\n",
            "R[write to console]: =\n",
            "R[write to console]: \n",
            "\n",
            "R[write to console]: downloaded 306 KB\n",
            "\n",
            "\n",
            "R[write to console]: trying URL 'https://cran.rstudio.com/src/contrib/quadprog_1.5-8.tar.gz'\n",
            "\n",
            "R[write to console]: Content type 'application/x-gzip'\n",
            "R[write to console]:  length 36141 bytes (35 KB)\n",
            "\n",
            "R[write to console]: =\n",
            "R[write to console]: =\n",
            "R[write to console]: =\n",
            "R[write to console]: =\n",
            "R[write to console]: =\n",
            "R[write to console]: =\n",
            "R[write to console]: =\n",
            "R[write to console]: =\n",
            "R[write to console]: =\n",
            "R[write to console]: =\n",
            "R[write to console]: =\n",
            "R[write to console]: =\n",
            "R[write to console]: =\n",
            "R[write to console]: =\n",
            "R[write to console]: =\n",
            "R[write to console]: =\n",
            "R[write to console]: =\n",
            "R[write to console]: =\n",
            "R[write to console]: =\n",
            "R[write to console]: =\n",
            "R[write to console]: =\n",
            "R[write to console]: =\n",
            "R[write to console]: =\n",
            "R[write to console]: =\n",
            "R[write to console]: =\n",
            "R[write to console]: =\n",
            "R[write to console]: =\n",
            "R[write to console]: =\n",
            "R[write to console]: =\n",
            "R[write to console]: =\n",
            "R[write to console]: =\n",
            "R[write to console]: =\n",
            "R[write to console]: =\n",
            "R[write to console]: =\n",
            "R[write to console]: =\n",
            "R[write to console]: =\n",
            "R[write to console]: =\n",
            "R[write to console]: =\n",
            "R[write to console]: =\n",
            "R[write to console]: =\n",
            "R[write to console]: =\n",
            "R[write to console]: =\n",
            "R[write to console]: =\n",
            "R[write to console]: =\n",
            "R[write to console]: =\n",
            "R[write to console]: =\n",
            "R[write to console]: =\n",
            "R[write to console]: =\n",
            "R[write to console]: =\n",
            "R[write to console]: =\n",
            "R[write to console]: \n",
            "\n",
            "R[write to console]: downloaded 35 KB\n",
            "\n",
            "\n",
            "R[write to console]: trying URL 'https://cran.rstudio.com/src/contrib/quantmod_0.4.18.tar.gz'\n",
            "\n",
            "R[write to console]: Content type 'application/x-gzip'\n",
            "R[write to console]:  length 154512 bytes (150 KB)\n",
            "\n",
            "R[write to console]: =\n",
            "R[write to console]: =\n",
            "R[write to console]: =\n",
            "R[write to console]: =\n",
            "R[write to console]: =\n",
            "R[write to console]: =\n",
            "R[write to console]: =\n",
            "R[write to console]: =\n",
            "R[write to console]: =\n",
            "R[write to console]: =\n",
            "R[write to console]: =\n",
            "R[write to console]: =\n",
            "R[write to console]: =\n",
            "R[write to console]: =\n",
            "R[write to console]: =\n",
            "R[write to console]: =\n",
            "R[write to console]: =\n",
            "R[write to console]: =\n",
            "R[write to console]: =\n",
            "R[write to console]: =\n",
            "R[write to console]: =\n",
            "R[write to console]: =\n",
            "R[write to console]: =\n",
            "R[write to console]: =\n",
            "R[write to console]: =\n",
            "R[write to console]: =\n",
            "R[write to console]: =\n",
            "R[write to console]: =\n",
            "R[write to console]: =\n",
            "R[write to console]: =\n",
            "R[write to console]: =\n",
            "R[write to console]: =\n",
            "R[write to console]: =\n",
            "R[write to console]: =\n",
            "R[write to console]: =\n",
            "R[write to console]: =\n",
            "R[write to console]: =\n",
            "R[write to console]: =\n",
            "R[write to console]: =\n",
            "R[write to console]: =\n",
            "R[write to console]: =\n",
            "R[write to console]: =\n",
            "R[write to console]: =\n",
            "R[write to console]: =\n",
            "R[write to console]: =\n",
            "R[write to console]: =\n",
            "R[write to console]: =\n",
            "R[write to console]: =\n",
            "R[write to console]: =\n",
            "R[write to console]: =\n",
            "R[write to console]: \n",
            "\n",
            "R[write to console]: downloaded 150 KB\n",
            "\n",
            "\n",
            "R[write to console]: trying URL 'https://cran.rstudio.com/src/contrib/fracdiff_1.5-1.tar.gz'\n",
            "\n",
            "R[write to console]: Content type 'application/x-gzip'\n",
            "R[write to console]:  length 63764 bytes (62 KB)\n",
            "\n",
            "R[write to console]: =\n",
            "R[write to console]: =\n",
            "R[write to console]: =\n",
            "R[write to console]: =\n",
            "R[write to console]: =\n",
            "R[write to console]: =\n",
            "R[write to console]: =\n",
            "R[write to console]: =\n",
            "R[write to console]: =\n",
            "R[write to console]: =\n",
            "R[write to console]: =\n",
            "R[write to console]: =\n",
            "R[write to console]: =\n",
            "R[write to console]: =\n",
            "R[write to console]: =\n",
            "R[write to console]: =\n",
            "R[write to console]: =\n",
            "R[write to console]: =\n",
            "R[write to console]: =\n",
            "R[write to console]: =\n",
            "R[write to console]: =\n",
            "R[write to console]: =\n",
            "R[write to console]: =\n",
            "R[write to console]: =\n",
            "R[write to console]: =\n",
            "R[write to console]: =\n",
            "R[write to console]: =\n",
            "R[write to console]: =\n",
            "R[write to console]: =\n",
            "R[write to console]: =\n",
            "R[write to console]: =\n",
            "R[write to console]: =\n",
            "R[write to console]: =\n",
            "R[write to console]: =\n",
            "R[write to console]: =\n",
            "R[write to console]: =\n",
            "R[write to console]: =\n",
            "R[write to console]: =\n",
            "R[write to console]: =\n",
            "R[write to console]: =\n",
            "R[write to console]: =\n",
            "R[write to console]: =\n",
            "R[write to console]: =\n",
            "R[write to console]: =\n",
            "R[write to console]: =\n",
            "R[write to console]: =\n",
            "R[write to console]: =\n",
            "R[write to console]: =\n",
            "R[write to console]: =\n",
            "R[write to console]: =\n",
            "R[write to console]: \n",
            "\n",
            "R[write to console]: downloaded 62 KB\n",
            "\n",
            "\n",
            "R[write to console]: trying URL 'https://cran.rstudio.com/src/contrib/lmtest_0.9-38.tar.gz'\n",
            "\n",
            "R[write to console]: Content type 'application/x-gzip'\n",
            "R[write to console]:  length 227052 bytes (221 KB)\n",
            "\n",
            "R[write to console]: =\n",
            "R[write to console]: =\n",
            "R[write to console]: =\n",
            "R[write to console]: =\n",
            "R[write to console]: =\n",
            "R[write to console]: =\n",
            "R[write to console]: =\n",
            "R[write to console]: =\n",
            "R[write to console]: =\n",
            "R[write to console]: =\n",
            "R[write to console]: =\n",
            "R[write to console]: =\n",
            "R[write to console]: =\n",
            "R[write to console]: =\n",
            "R[write to console]: =\n",
            "R[write to console]: =\n",
            "R[write to console]: =\n",
            "R[write to console]: =\n",
            "R[write to console]: =\n",
            "R[write to console]: =\n",
            "R[write to console]: =\n",
            "R[write to console]: =\n",
            "R[write to console]: =\n",
            "R[write to console]: =\n",
            "R[write to console]: =\n",
            "R[write to console]: =\n",
            "R[write to console]: =\n",
            "R[write to console]: =\n",
            "R[write to console]: =\n",
            "R[write to console]: =\n",
            "R[write to console]: =\n",
            "R[write to console]: =\n",
            "R[write to console]: =\n",
            "R[write to console]: =\n",
            "R[write to console]: =\n",
            "R[write to console]: =\n",
            "R[write to console]: =\n",
            "R[write to console]: =\n",
            "R[write to console]: =\n",
            "R[write to console]: =\n",
            "R[write to console]: =\n",
            "R[write to console]: =\n",
            "R[write to console]: =\n",
            "R[write to console]: =\n",
            "R[write to console]: =\n",
            "R[write to console]: =\n",
            "R[write to console]: =\n",
            "R[write to console]: =\n",
            "R[write to console]: =\n",
            "R[write to console]: =\n",
            "R[write to console]: \n",
            "\n",
            "R[write to console]: downloaded 221 KB\n",
            "\n",
            "\n",
            "R[write to console]: trying URL 'https://cran.rstudio.com/src/contrib/timeDate_3043.102.tar.gz'\n",
            "\n",
            "R[write to console]: Content type 'application/x-gzip'\n",
            "R[write to console]:  length 314656 bytes (307 KB)\n",
            "\n",
            "R[write to console]: =\n",
            "R[write to console]: =\n",
            "R[write to console]: =\n",
            "R[write to console]: =\n",
            "R[write to console]: =\n",
            "R[write to console]: =\n",
            "R[write to console]: =\n",
            "R[write to console]: =\n",
            "R[write to console]: =\n",
            "R[write to console]: =\n",
            "R[write to console]: =\n",
            "R[write to console]: =\n",
            "R[write to console]: =\n",
            "R[write to console]: =\n",
            "R[write to console]: =\n",
            "R[write to console]: =\n",
            "R[write to console]: =\n",
            "R[write to console]: =\n",
            "R[write to console]: =\n",
            "R[write to console]: =\n",
            "R[write to console]: =\n",
            "R[write to console]: =\n",
            "R[write to console]: =\n",
            "R[write to console]: =\n",
            "R[write to console]: =\n",
            "R[write to console]: =\n",
            "R[write to console]: =\n",
            "R[write to console]: =\n",
            "R[write to console]: =\n",
            "R[write to console]: =\n",
            "R[write to console]: =\n",
            "R[write to console]: =\n",
            "R[write to console]: =\n",
            "R[write to console]: =\n",
            "R[write to console]: =\n",
            "R[write to console]: =\n",
            "R[write to console]: =\n",
            "R[write to console]: =\n",
            "R[write to console]: =\n",
            "R[write to console]: =\n",
            "R[write to console]: =\n",
            "R[write to console]: =\n",
            "R[write to console]: =\n",
            "R[write to console]: =\n",
            "R[write to console]: =\n",
            "R[write to console]: =\n",
            "R[write to console]: =\n",
            "R[write to console]: =\n",
            "R[write to console]: =\n",
            "R[write to console]: =\n",
            "R[write to console]: \n",
            "\n",
            "R[write to console]: downloaded 307 KB\n",
            "\n",
            "\n",
            "R[write to console]: trying URL 'https://cran.rstudio.com/src/contrib/tseries_0.10-48.tar.gz'\n",
            "\n",
            "R[write to console]: Content type 'application/x-gzip'\n",
            "R[write to console]:  length 170342 bytes (166 KB)\n",
            "\n",
            "R[write to console]: =\n",
            "R[write to console]: =\n",
            "R[write to console]: =\n",
            "R[write to console]: =\n",
            "R[write to console]: =\n",
            "R[write to console]: =\n",
            "R[write to console]: =\n",
            "R[write to console]: =\n",
            "R[write to console]: =\n",
            "R[write to console]: =\n",
            "R[write to console]: =\n",
            "R[write to console]: =\n",
            "R[write to console]: =\n",
            "R[write to console]: =\n",
            "R[write to console]: =\n",
            "R[write to console]: =\n",
            "R[write to console]: =\n",
            "R[write to console]: =\n",
            "R[write to console]: =\n",
            "R[write to console]: =\n",
            "R[write to console]: =\n",
            "R[write to console]: =\n",
            "R[write to console]: =\n",
            "R[write to console]: =\n",
            "R[write to console]: =\n",
            "R[write to console]: =\n",
            "R[write to console]: =\n",
            "R[write to console]: =\n",
            "R[write to console]: =\n",
            "R[write to console]: =\n",
            "R[write to console]: =\n",
            "R[write to console]: =\n",
            "R[write to console]: =\n",
            "R[write to console]: =\n",
            "R[write to console]: =\n",
            "R[write to console]: =\n",
            "R[write to console]: =\n",
            "R[write to console]: =\n",
            "R[write to console]: =\n",
            "R[write to console]: =\n",
            "R[write to console]: =\n",
            "R[write to console]: =\n",
            "R[write to console]: =\n",
            "R[write to console]: =\n",
            "R[write to console]: =\n",
            "R[write to console]: =\n",
            "R[write to console]: =\n",
            "R[write to console]: =\n",
            "R[write to console]: =\n",
            "R[write to console]: =\n",
            "R[write to console]: \n",
            "\n",
            "R[write to console]: downloaded 166 KB\n",
            "\n",
            "\n",
            "R[write to console]: trying URL 'https://cran.rstudio.com/src/contrib/urca_1.3-0.tar.gz'\n",
            "\n",
            "R[write to console]: Content type 'application/x-gzip'\n",
            "R[write to console]:  length 682935 bytes (666 KB)\n",
            "\n",
            "R[write to console]: =\n",
            "R[write to console]: =\n",
            "R[write to console]: =\n",
            "R[write to console]: =\n",
            "R[write to console]: =\n",
            "R[write to console]: =\n",
            "R[write to console]: =\n",
            "R[write to console]: =\n",
            "R[write to console]: =\n",
            "R[write to console]: =\n",
            "R[write to console]: =\n",
            "R[write to console]: =\n",
            "R[write to console]: =\n",
            "R[write to console]: =\n",
            "R[write to console]: =\n",
            "R[write to console]: =\n",
            "R[write to console]: =\n",
            "R[write to console]: =\n",
            "R[write to console]: =\n",
            "R[write to console]: =\n",
            "R[write to console]: =\n",
            "R[write to console]: =\n",
            "R[write to console]: =\n",
            "R[write to console]: =\n",
            "R[write to console]: =\n",
            "R[write to console]: =\n",
            "R[write to console]: =\n",
            "R[write to console]: =\n",
            "R[write to console]: =\n",
            "R[write to console]: =\n",
            "R[write to console]: =\n",
            "R[write to console]: =\n",
            "R[write to console]: =\n",
            "R[write to console]: =\n",
            "R[write to console]: =\n",
            "R[write to console]: =\n",
            "R[write to console]: =\n",
            "R[write to console]: =\n",
            "R[write to console]: =\n",
            "R[write to console]: =\n",
            "R[write to console]: =\n",
            "R[write to console]: =\n",
            "R[write to console]: =\n",
            "R[write to console]: =\n",
            "R[write to console]: =\n",
            "R[write to console]: =\n",
            "R[write to console]: =\n",
            "R[write to console]: =\n",
            "R[write to console]: =\n",
            "R[write to console]: =\n",
            "R[write to console]: \n",
            "\n",
            "R[write to console]: downloaded 666 KB\n",
            "\n",
            "\n",
            "R[write to console]: trying URL 'https://cran.rstudio.com/src/contrib/zoo_1.8-9.tar.gz'\n",
            "\n",
            "R[write to console]: Content type 'application/x-gzip'\n",
            "R[write to console]:  length 793891 bytes (775 KB)\n",
            "\n",
            "R[write to console]: =\n",
            "R[write to console]: =\n",
            "R[write to console]: =\n",
            "R[write to console]: =\n",
            "R[write to console]: =\n",
            "R[write to console]: =\n",
            "R[write to console]: =\n",
            "R[write to console]: =\n",
            "R[write to console]: =\n",
            "R[write to console]: =\n",
            "R[write to console]: =\n",
            "R[write to console]: =\n",
            "R[write to console]: =\n",
            "R[write to console]: =\n",
            "R[write to console]: =\n",
            "R[write to console]: =\n",
            "R[write to console]: =\n",
            "R[write to console]: =\n",
            "R[write to console]: =\n",
            "R[write to console]: =\n",
            "R[write to console]: =\n",
            "R[write to console]: =\n",
            "R[write to console]: =\n",
            "R[write to console]: =\n",
            "R[write to console]: =\n",
            "R[write to console]: =\n",
            "R[write to console]: =\n",
            "R[write to console]: =\n",
            "R[write to console]: =\n",
            "R[write to console]: =\n",
            "R[write to console]: =\n",
            "R[write to console]: =\n",
            "R[write to console]: =\n",
            "R[write to console]: =\n",
            "R[write to console]: =\n",
            "R[write to console]: =\n",
            "R[write to console]: =\n",
            "R[write to console]: =\n",
            "R[write to console]: =\n",
            "R[write to console]: =\n",
            "R[write to console]: =\n",
            "R[write to console]: =\n",
            "R[write to console]: =\n",
            "R[write to console]: =\n",
            "R[write to console]: =\n",
            "R[write to console]: =\n",
            "R[write to console]: =\n",
            "R[write to console]: =\n",
            "R[write to console]: =\n",
            "R[write to console]: =\n",
            "R[write to console]: \n",
            "\n",
            "R[write to console]: downloaded 775 KB\n",
            "\n",
            "\n",
            "R[write to console]: trying URL 'https://cran.rstudio.com/src/contrib/RcppArmadillo_0.10.6.0.0.tar.gz'\n",
            "\n",
            "R[write to console]: Content type 'application/x-gzip'\n",
            "R[write to console]:  length 1673880 bytes (1.6 MB)\n",
            "\n",
            "R[write to console]: =\n",
            "R[write to console]: =\n",
            "R[write to console]: =\n",
            "R[write to console]: =\n",
            "R[write to console]: =\n",
            "R[write to console]: =\n",
            "R[write to console]: =\n",
            "R[write to console]: =\n",
            "R[write to console]: =\n",
            "R[write to console]: =\n",
            "R[write to console]: =\n",
            "R[write to console]: =\n",
            "R[write to console]: =\n",
            "R[write to console]: =\n",
            "R[write to console]: =\n",
            "R[write to console]: =\n",
            "R[write to console]: =\n",
            "R[write to console]: =\n",
            "R[write to console]: =\n",
            "R[write to console]: =\n",
            "R[write to console]: =\n",
            "R[write to console]: =\n",
            "R[write to console]: =\n",
            "R[write to console]: =\n",
            "R[write to console]: =\n",
            "R[write to console]: =\n",
            "R[write to console]: =\n",
            "R[write to console]: =\n",
            "R[write to console]: =\n",
            "R[write to console]: =\n",
            "R[write to console]: =\n",
            "R[write to console]: =\n",
            "R[write to console]: =\n",
            "R[write to console]: =\n",
            "R[write to console]: =\n",
            "R[write to console]: =\n",
            "R[write to console]: =\n",
            "R[write to console]: =\n",
            "R[write to console]: =\n",
            "R[write to console]: =\n",
            "R[write to console]: =\n",
            "R[write to console]: =\n",
            "R[write to console]: =\n",
            "R[write to console]: =\n",
            "R[write to console]: =\n",
            "R[write to console]: =\n",
            "R[write to console]: =\n",
            "R[write to console]: =\n",
            "R[write to console]: =\n",
            "R[write to console]: =\n",
            "R[write to console]: \n",
            "\n",
            "R[write to console]: downloaded 1.6 MB\n",
            "\n",
            "\n",
            "R[write to console]: trying URL 'https://cran.rstudio.com/src/contrib/forecast_8.15.tar.gz'\n",
            "\n",
            "R[write to console]: Content type 'application/x-gzip'\n",
            "R[write to console]:  length 584703 bytes (570 KB)\n",
            "\n",
            "R[write to console]: =\n",
            "R[write to console]: =\n",
            "R[write to console]: =\n",
            "R[write to console]: =\n",
            "R[write to console]: =\n",
            "R[write to console]: =\n",
            "R[write to console]: =\n",
            "R[write to console]: =\n",
            "R[write to console]: =\n",
            "R[write to console]: =\n",
            "R[write to console]: =\n",
            "R[write to console]: =\n",
            "R[write to console]: =\n",
            "R[write to console]: =\n",
            "R[write to console]: =\n",
            "R[write to console]: =\n",
            "R[write to console]: =\n",
            "R[write to console]: =\n",
            "R[write to console]: =\n",
            "R[write to console]: =\n",
            "R[write to console]: =\n",
            "R[write to console]: =\n",
            "R[write to console]: =\n",
            "R[write to console]: =\n",
            "R[write to console]: =\n",
            "R[write to console]: =\n",
            "R[write to console]: =\n",
            "R[write to console]: =\n",
            "R[write to console]: =\n",
            "R[write to console]: =\n",
            "R[write to console]: =\n",
            "R[write to console]: =\n",
            "R[write to console]: =\n",
            "R[write to console]: =\n",
            "R[write to console]: =\n",
            "R[write to console]: =\n",
            "R[write to console]: =\n",
            "R[write to console]: =\n",
            "R[write to console]: =\n",
            "R[write to console]: =\n",
            "R[write to console]: =\n",
            "R[write to console]: =\n",
            "R[write to console]: =\n",
            "R[write to console]: =\n",
            "R[write to console]: =\n",
            "R[write to console]: =\n",
            "R[write to console]: =\n",
            "R[write to console]: =\n",
            "R[write to console]: =\n",
            "R[write to console]: =\n",
            "R[write to console]: \n",
            "\n",
            "R[write to console]: downloaded 570 KB\n",
            "\n",
            "\n",
            "R[write to console]: \n",
            "\n",
            "R[write to console]: \n",
            "R[write to console]: The downloaded source packages are in\n",
            "\t‘/tmp/RtmpFR3BLP/downloaded_packages’\n",
            "R[write to console]: \n",
            "R[write to console]: \n",
            "\n",
            "R[write to console]: Registered S3 method overwritten by 'quantmod':\n",
            "  method            from\n",
            "  as.zoo.data.frame zoo \n",
            "\n",
            "R[write to console]: This is forecast 8.15 \n",
            "  Crossvalidated is a great place to get help on forecasting issues:\n",
            "  http://stats.stackexchange.com/tags/forecasting.\n",
            "\n"
          ],
          "name": "stderr"
        }
      ]
    },
    {
      "cell_type": "code",
      "metadata": {
        "id": "b5Dik3uV_cvy"
      },
      "source": [
        "sample_num = 51"
      ],
      "execution_count": null,
      "outputs": []
    },
    {
      "cell_type": "code",
      "metadata": {
        "id": "Ji8M_Qmw_eWL"
      },
      "source": [
        "%%R\n",
        "sample_num = 51\n",
        "ts_df <- matrix(1:4554, ncol = 11, nrow = 414)\n",
        "for(i in c(1:ncol(df))){\n",
        "  ts_df[, i] = ts(df[, i], frequency=1)\n",
        "}\n",
        "ts_df <- ts_df %>% data.frame()\n",
        "train <- ts_df[1:331, c(5:11, 4)]\n",
        "test <- ts_df[332:414, c(5:11, 4)]\n",
        "\n",
        "colnames(train) <- colnames(df)[c(5:11, 4)]\n",
        "colnames(test) <- colnames(df)[c(5:11, 4)]\n",
        "\n",
        "cols = colnames(train)\n",
        "\n",
        "### BOOTSTRAP ###\n",
        "for(i in c(1:8)){\n",
        "  if(i == 1){\n",
        "    train_boot = bld.mbb.bootstrap(train[, i], sample_num, block_size = 3) %>% data.frame()\n",
        "  }else{\n",
        "    temp_boot = bld.mbb.bootstrap(train[, i], sample_num, block_size = 3) %>% data.frame()\n",
        "    train_boot = cbind(train_boot, temp_boot)\n",
        "  }\n",
        "}\n",
        "train_boot_df <- train_boot %>% data.frame()"
      ],
      "execution_count": null,
      "outputs": []
    },
    {
      "cell_type": "code",
      "metadata": {
        "id": "6XDQp3CE_kq9"
      },
      "source": [
        "train_boot_df=%R train_boot_df\n",
        "train=%R train\n",
        "test=%R test\n",
        "cols=%R cols"
      ],
      "execution_count": null,
      "outputs": []
    },
    {
      "cell_type": "code",
      "metadata": {
        "id": "GMUZqKvN_pRH"
      },
      "source": [
        "bts_2d = []\n",
        "bts_3d = []"
      ],
      "execution_count": null,
      "outputs": []
    },
    {
      "cell_type": "code",
      "metadata": {
        "id": "ebH-4UIY_r0g",
        "colab": {
          "base_uri": "https://localhost:8080/"
        },
        "outputId": "48185539-be11-4985-8109-077bf7ebe989"
      },
      "source": [
        "for i in range(8):\n",
        "  for j in range(1, sample_num):\n",
        "    bts_3d.append(train_boot_df.iloc[:, j+(sample_num*i)])\n",
        "  bts_2d.append(bts_3d)\n",
        "  bts_3d = []\n",
        "\n",
        "bts_2d = np.stack(bts_2d, axis=-1)\n",
        "bts_2d.shape"
      ],
      "execution_count": null,
      "outputs": [
        {
          "output_type": "execute_result",
          "data": {
            "text/plain": [
              "(50, 331, 8)"
            ]
          },
          "metadata": {
            "tags": []
          },
          "execution_count": 12
        }
      ]
    },
    {
      "cell_type": "code",
      "metadata": {
        "id": "-gWfICgOl-7C"
      },
      "source": [
        "bts_2d_y = bts_2d[:, :, 7].reshape((bts_2d.shape[0], bts_2d.shape[1], 1))\n",
        "train_y = pd.DataFrame(train['new_case'])\n",
        "test_y = pd.DataFrame(test['new_case'])"
      ],
      "execution_count": null,
      "outputs": []
    },
    {
      "cell_type": "code",
      "metadata": {
        "id": "L_jmKzWO_2Wj",
        "colab": {
          "base_uri": "https://localhost:8080/"
        },
        "outputId": "c52d2678-61d0-47f3-984a-5aada5f505bc"
      },
      "source": [
        "### CREATE TRAIN/VALIDATION WINDOWS W/ BOOTSTRAP ###\n",
        "\n",
        "_X = create_windows(train[cols], window_shape=window_shape, end_id=-time_h)\n",
        "_y = create_windows(train_y, window_shape=time_h, start_id=window_shape)\n",
        "_X_train, _X_val, _y_train, _y_val = train_test_split(_X, _y, test_size=window_shape*22, shuffle=True)\n",
        "X_train, X_val, y_train, y_val = [_X_train], [_X_val], [_y_train], [_y_val]\n",
        "\n",
        "for i in range(bts_2d.shape[0]):\n",
        "\n",
        "    _X = create_windows(bts_2d[i], window_shape=window_shape, end_id=-time_h)\n",
        "    _y = create_windows(bts_2d_y[i], window_shape=time_h, start_id=window_shape)\n",
        "    _X_train, _X_val, _y_train, _y_val = train_test_split(_X, _y, test_size=window_shape*22, shuffle=True)\n",
        "    X_train.append(_X_train); X_val.append(_X_val)\n",
        "    y_train.append(_y_train); y_val.append(_y_val)\n",
        "    \n",
        "X_train = np.concatenate(X_train); X_val = np.concatenate(X_val)\n",
        "y_train = np.concatenate(y_train); y_val = np.concatenate(y_val)\n",
        "\n",
        "print(X_train.shape, y_train.shape)\n",
        "print(X_val.shape, y_val.shape)"
      ],
      "execution_count": null,
      "outputs": [
        {
          "output_type": "stream",
          "text": [
            "(13362, 3, 8) (13362, 1, 1)\n",
            "(3366, 3, 8) (3366, 1, 1)\n"
          ],
          "name": "stdout"
        }
      ]
    },
    {
      "cell_type": "code",
      "metadata": {
        "id": "4X7_3vSHIdJA"
      },
      "source": [
        "Min_train = []\n",
        "Min_val = []\n",
        "Max_train = []\n",
        "Max_val = []"
      ],
      "execution_count": null,
      "outputs": []
    },
    {
      "cell_type": "code",
      "metadata": {
        "id": "cP3OkiilG1JF"
      },
      "source": [
        "for i in range(X_train.shape[0]):\n",
        "  for j in range(X_train.shape[2]): \n",
        "    Min_train.append(min(X_train[i, :, j]))\n",
        "  np.vstack(Min_train)\n",
        "\n",
        "Min_train = np.array(Min_train)\n",
        "Min_train = Min_train.reshape(X_train.shape[0], 1, X_train.shape[2])"
      ],
      "execution_count": null,
      "outputs": []
    },
    {
      "cell_type": "code",
      "metadata": {
        "id": "y99wh0VDWGzU"
      },
      "source": [
        "for i in range(X_val.shape[0]):\n",
        "  for j in range(X_val.shape[2]): \n",
        "    Min_val.append(min(X_val[i, :, j]))\n",
        "  np.vstack(Min_val)\n",
        "\n",
        "Min_val = np.array(Min_val)\n",
        "Min_val = Min_val.reshape(X_val.shape[0], 1, X_val.shape[2])"
      ],
      "execution_count": null,
      "outputs": []
    },
    {
      "cell_type": "code",
      "metadata": {
        "id": "XKgKJTKLPWJB",
        "colab": {
          "base_uri": "https://localhost:8080/"
        },
        "outputId": "e72bba52-c4be-4915-dd73-3c7624f602d3"
      },
      "source": [
        "Min_train.shape\n",
        "Min_val.shape"
      ],
      "execution_count": null,
      "outputs": [
        {
          "output_type": "execute_result",
          "data": {
            "text/plain": [
              "(3366, 1, 8)"
            ]
          },
          "metadata": {
            "tags": []
          },
          "execution_count": 18
        }
      ]
    },
    {
      "cell_type": "code",
      "metadata": {
        "id": "Ktdi480nOZDY"
      },
      "source": [
        "for i in range(X_train.shape[0]):\n",
        "  for j in range(X_train.shape[2]): \n",
        "    Max_train.append(max(X_train[i, :, j]))\n",
        "  np.vstack(Max_train)\n",
        "\n",
        "Max_train = np.array(Max_train)\n",
        "Max_train = Max_train.reshape(X_train.shape[0], 1, X_train.shape[2])"
      ],
      "execution_count": null,
      "outputs": []
    },
    {
      "cell_type": "code",
      "metadata": {
        "id": "wFnKtpCQXCoR"
      },
      "source": [
        "for i in range(X_val.shape[0]):\n",
        "  for j in range(X_val.shape[2]): \n",
        "    Max_val.append(max(X_val[i, :, j]))\n",
        "  np.vstack(Max_val)\n",
        "\n",
        "Max_val = np.array(Max_val)\n",
        "Max_val = Max_val.reshape(X_val.shape[0], 1, X_val.shape[2])"
      ],
      "execution_count": null,
      "outputs": []
    },
    {
      "cell_type": "code",
      "metadata": {
        "id": "HI_M4aCpXLVa",
        "colab": {
          "base_uri": "https://localhost:8080/"
        },
        "outputId": "a058fd7a-3aa6-4019-869b-55a7a7a5f14e"
      },
      "source": [
        "Max_train.shape\n",
        "Max_val.shape"
      ],
      "execution_count": null,
      "outputs": [
        {
          "output_type": "execute_result",
          "data": {
            "text/plain": [
              "(3366, 1, 8)"
            ]
          },
          "metadata": {
            "tags": []
          },
          "execution_count": 21
        }
      ]
    },
    {
      "cell_type": "code",
      "metadata": {
        "id": "_Req176T-G3U"
      },
      "source": [
        "y_train = (y_train[...,[-1]] - Min_train[...,[-1]]) / (Max_train[...,[-1]] - Min_train[...,[-1]])\n",
        "X_train = (X_train - Min_train) / (Max_train - Min_train)\n",
        "\n",
        "y_val = (y_val[...,[-1]] - Min_val[...,[-1]]) / (Max_val[...,[-1]] - Min_val[...,[-1]])\n",
        "X_val = (X_val - Min_val) / (Max_val - Min_val)"
      ],
      "execution_count": null,
      "outputs": []
    },
    {
      "cell_type": "code",
      "metadata": {
        "id": "oQcMw4MY_7xM"
      },
      "source": [
        "### CREATE TEST WINDOWS ###\n",
        "\n",
        "X_test = create_windows(test[cols], window_shape=window_shape, end_id=-time_h)\n",
        "y_test = create_windows(test_y, window_shape=time_h, start_id=window_shape)"
      ],
      "execution_count": null,
      "outputs": []
    },
    {
      "cell_type": "code",
      "metadata": {
        "id": "whskhn-DWWYa"
      },
      "source": [
        "Min_test = []\n",
        "Max_test = []"
      ],
      "execution_count": null,
      "outputs": []
    },
    {
      "cell_type": "code",
      "metadata": {
        "id": "_j4xn_qEQXGc"
      },
      "source": [
        "for i in range(X_test.shape[0]):\n",
        "  for j in range(X_test.shape[2]): \n",
        "    Min_test.append(min(X_test[i, :, j]))\n",
        "  np.vstack(Min_test)\n",
        "\n",
        "Min_test = np.array(Min_test)\n",
        "Min_test = Min_test.reshape(X_test.shape[0], 1, X_test.shape[2])"
      ],
      "execution_count": null,
      "outputs": []
    },
    {
      "cell_type": "code",
      "metadata": {
        "id": "OEW5shQFQtzU"
      },
      "source": [
        "for i in range(X_test.shape[0]):\n",
        "  for j in range(X_test.shape[2]): \n",
        "    Max_test.append(max(X_test[i, :, j]))\n",
        "  np.vstack(Max_test)\n",
        "\n",
        "Max_test = np.array(Max_test)\n",
        "Max_test = Max_test.reshape(X_test.shape[0], 1, X_test.shape[2])"
      ],
      "execution_count": null,
      "outputs": []
    },
    {
      "cell_type": "code",
      "metadata": {
        "id": "uT-_99NeWUfp",
        "colab": {
          "base_uri": "https://localhost:8080/"
        },
        "outputId": "af24a4fe-fd84-4899-d085-ff1574d88c10"
      },
      "source": [
        "X_test = (X_test - Min_test) / (Max_test - Min_test)\n",
        "y_test = np.squeeze(y_test[...,[-1]], -1)\n",
        "\n",
        "X_test.shape, y_test.shape"
      ],
      "execution_count": null,
      "outputs": [
        {
          "output_type": "execute_result",
          "data": {
            "text/plain": [
              "((80, 3, 8), (80, 1))"
            ]
          },
          "metadata": {
            "tags": []
          },
          "execution_count": 27
        }
      ]
    },
    {
      "cell_type": "code",
      "metadata": {
        "id": "rPiewYhq_8TM"
      },
      "source": [
        "def get_model_mse(param):\n",
        "    \n",
        "    inp = Input((window_shape,len(cols)))\n",
        "    enc = LSTM(param['lstm_unit'], activation=param['lstm_act'], \n",
        "               return_sequences=False)(inp)\n",
        "    x = RepeatVector(time_h)(enc)\n",
        "    \n",
        "    out = Dense(1)(x)\n",
        "    \n",
        "    model = Model(inp, out)\n",
        "    model.compile(Adam(lr=param['lr']), 'mse')\n",
        "    \n",
        "    return model"
      ],
      "execution_count": null,
      "outputs": []
    },
    {
      "cell_type": "code",
      "metadata": {
        "id": "LFbFdzNs_-J9",
        "colab": {
          "base_uri": "https://localhost:8080/"
        },
        "outputId": "600ed69a-f4b2-41e9-fed1-3c0a3061975b"
      },
      "source": [
        "param_grid = {\n",
        "    'lstm_unit': [128,64], \n",
        "    'lstm_act': ['tanh'],\n",
        "    'lr': [1e-4,1e-3], \n",
        "    'epochs': 100, \n",
        "    'batch_size': [16,32,128]\n",
        "}\n",
        "\n",
        "es = EarlyStopping(patience=10, verbose=1, min_delta=0.001, monitor='val_loss', mode='auto', restore_best_weights=True)\n",
        "hypermodel_mse = get_model_mse\n",
        "kgs_mse = KerasGridSearch(hypermodel_mse, param_grid, monitor='val_loss', greater_is_better=False, tuner_verbose=1)\n",
        "kgs_mse.search(X_train, y_train, validation_data=(X_val, y_val), callbacks=[es])"
      ],
      "execution_count": null,
      "outputs": [
        {
          "output_type": "stream",
          "text": [
            "\n",
            "12 trials detected for ('lstm_unit', 'lstm_act', 'lr', 'epochs', 'batch_size')\n"
          ],
          "name": "stdout"
        },
        {
          "output_type": "stream",
          "text": [
            "/usr/local/lib/python3.7/dist-packages/tensorflow/python/keras/optimizer_v2/optimizer_v2.py:375: UserWarning: The `lr` argument is deprecated, use `learning_rate` instead.\n",
            "  \"The `lr` argument is deprecated, use `learning_rate` instead.\")\n"
          ],
          "name": "stderr"
        },
        {
          "output_type": "stream",
          "text": [
            "\n",
            "***** (1/12) *****\n",
            "Search({'lstm_unit': 128, 'lstm_act': 'tanh', 'lr': 0.0001, 'epochs': 100, 'batch_size': 16})\n",
            "SCORE: 3.69208 at epoch 99\n",
            "\n",
            "***** (2/12) *****\n",
            "Search({'lstm_unit': 128, 'lstm_act': 'tanh', 'lr': 0.0001, 'epochs': 100, 'batch_size': 32})\n",
            "SCORE: 3.7173 at epoch 100\n",
            "\n",
            "***** (3/12) *****\n",
            "Search({'lstm_unit': 128, 'lstm_act': 'tanh', 'lr': 0.0001, 'epochs': 100, 'batch_size': 128})\n",
            "SCORE: 3.73836 at epoch 100\n",
            "\n",
            "***** (4/12) *****\n",
            "Search({'lstm_unit': 128, 'lstm_act': 'tanh', 'lr': 0.001, 'epochs': 100, 'batch_size': 16})\n",
            "Restoring model weights from the end of the best epoch.\n",
            "Epoch 00077: early stopping\n",
            "SCORE: 3.64111 at epoch 76\n",
            "\n",
            "***** (5/12) *****\n",
            "Search({'lstm_unit': 128, 'lstm_act': 'tanh', 'lr': 0.001, 'epochs': 100, 'batch_size': 32})\n",
            "Restoring model weights from the end of the best epoch.\n",
            "Epoch 00067: early stopping\n",
            "SCORE: 3.65418 at epoch 57\n",
            "\n",
            "***** (6/12) *****\n",
            "Search({'lstm_unit': 128, 'lstm_act': 'tanh', 'lr': 0.001, 'epochs': 100, 'batch_size': 128})\n",
            "Restoring model weights from the end of the best epoch.\n",
            "Epoch 00100: early stopping\n",
            "SCORE: 3.66744 at epoch 97\n",
            "\n",
            "***** (7/12) *****\n",
            "Search({'lstm_unit': 64, 'lstm_act': 'tanh', 'lr': 0.0001, 'epochs': 100, 'batch_size': 16})\n",
            "SCORE: 3.6927 at epoch 100\n",
            "\n",
            "***** (8/12) *****\n",
            "Search({'lstm_unit': 64, 'lstm_act': 'tanh', 'lr': 0.0001, 'epochs': 100, 'batch_size': 32})\n",
            "SCORE: 3.72121 at epoch 100\n",
            "\n",
            "***** (9/12) *****\n",
            "Search({'lstm_unit': 64, 'lstm_act': 'tanh', 'lr': 0.0001, 'epochs': 100, 'batch_size': 128})\n",
            "SCORE: 3.75238 at epoch 100\n",
            "\n",
            "***** (10/12) *****\n",
            "Search({'lstm_unit': 64, 'lstm_act': 'tanh', 'lr': 0.001, 'epochs': 100, 'batch_size': 16})\n",
            "Restoring model weights from the end of the best epoch.\n",
            "Epoch 00060: early stopping\n",
            "SCORE: 3.66333 at epoch 55\n",
            "\n",
            "***** (11/12) *****\n",
            "Search({'lstm_unit': 64, 'lstm_act': 'tanh', 'lr': 0.001, 'epochs': 100, 'batch_size': 32})\n",
            "Restoring model weights from the end of the best epoch.\n",
            "Epoch 00076: early stopping\n",
            "SCORE: 3.65829 at epoch 76\n",
            "\n",
            "***** (12/12) *****\n",
            "Search({'lstm_unit': 64, 'lstm_act': 'tanh', 'lr': 0.001, 'epochs': 100, 'batch_size': 128})\n",
            "SCORE: 3.68139 at epoch 94\n"
          ],
          "name": "stdout"
        },
        {
          "output_type": "execute_result",
          "data": {
            "text/plain": [
              "<kerashypetune.KerasGridSearch>"
            ]
          },
          "metadata": {
            "tags": []
          },
          "execution_count": 29
        }
      ]
    },
    {
      "cell_type": "code",
      "metadata": {
        "id": "bTDOztpAAE03",
        "colab": {
          "base_uri": "https://localhost:8080/"
        },
        "outputId": "69f024a1-12c7-4db6-f007-9558d53dd6a7"
      },
      "source": [
        "pred_boot_mse = kgs_mse.best_model.predict(X_test)\n",
        "pred_boot_mse"
      ],
      "execution_count": null,
      "outputs": [
        {
          "output_type": "execute_result",
          "data": {
            "text/plain": [
              "array([[[0.7629044 ]],\n",
              "\n",
              "       [[0.49833497]],\n",
              "\n",
              "       [[0.52780056]],\n",
              "\n",
              "       [[0.31005335]],\n",
              "\n",
              "       [[1.0149345 ]],\n",
              "\n",
              "       [[1.4784464 ]],\n",
              "\n",
              "       [[0.6013833 ]],\n",
              "\n",
              "       [[0.2584008 ]],\n",
              "\n",
              "       [[0.69397265]],\n",
              "\n",
              "       [[0.40985876]],\n",
              "\n",
              "       [[0.19136664]],\n",
              "\n",
              "       [[0.35154372]],\n",
              "\n",
              "       [[0.93235934]],\n",
              "\n",
              "       [[1.2133634 ]],\n",
              "\n",
              "       [[0.8977659 ]],\n",
              "\n",
              "       [[0.22596148]],\n",
              "\n",
              "       [[0.38314784]],\n",
              "\n",
              "       [[0.45497674]],\n",
              "\n",
              "       [[0.2922115 ]],\n",
              "\n",
              "       [[0.9430944 ]],\n",
              "\n",
              "       [[1.151734  ]],\n",
              "\n",
              "       [[0.9180993 ]],\n",
              "\n",
              "       [[0.64908576]],\n",
              "\n",
              "       [[0.34460282]],\n",
              "\n",
              "       [[0.40261933]],\n",
              "\n",
              "       [[1.0986855 ]],\n",
              "\n",
              "       [[1.3739859 ]],\n",
              "\n",
              "       [[1.2874473 ]],\n",
              "\n",
              "       [[0.59916306]],\n",
              "\n",
              "       [[0.3056484 ]],\n",
              "\n",
              "       [[0.47363386]],\n",
              "\n",
              "       [[0.2373142 ]],\n",
              "\n",
              "       [[0.75949657]],\n",
              "\n",
              "       [[1.2735516 ]],\n",
              "\n",
              "       [[1.1348838 ]],\n",
              "\n",
              "       [[1.0228797 ]],\n",
              "\n",
              "       [[0.49043876]],\n",
              "\n",
              "       [[0.4895276 ]],\n",
              "\n",
              "       [[0.22723022]],\n",
              "\n",
              "       [[0.7727255 ]],\n",
              "\n",
              "       [[1.3114238 ]],\n",
              "\n",
              "       [[1.1465175 ]],\n",
              "\n",
              "       [[0.61252654]],\n",
              "\n",
              "       [[0.98055756]],\n",
              "\n",
              "       [[0.52006596]],\n",
              "\n",
              "       [[0.16774091]],\n",
              "\n",
              "       [[0.83042896]],\n",
              "\n",
              "       [[1.6039437 ]],\n",
              "\n",
              "       [[1.3401767 ]],\n",
              "\n",
              "       [[0.6719075 ]],\n",
              "\n",
              "       [[1.0148383 ]],\n",
              "\n",
              "       [[0.79353964]],\n",
              "\n",
              "       [[0.27229077]],\n",
              "\n",
              "       [[1.3172355 ]],\n",
              "\n",
              "       [[1.4979755 ]],\n",
              "\n",
              "       [[1.2795562 ]],\n",
              "\n",
              "       [[0.88827986]],\n",
              "\n",
              "       [[0.44054765]],\n",
              "\n",
              "       [[0.4748962 ]],\n",
              "\n",
              "       [[0.12807623]],\n",
              "\n",
              "       [[0.01910698]],\n",
              "\n",
              "       [[1.1460868 ]],\n",
              "\n",
              "       [[1.4035273 ]],\n",
              "\n",
              "       [[1.1830176 ]],\n",
              "\n",
              "       [[0.58342355]],\n",
              "\n",
              "       [[0.21588424]],\n",
              "\n",
              "       [[0.29638657]],\n",
              "\n",
              "       [[0.17195469]],\n",
              "\n",
              "       [[1.0197401 ]],\n",
              "\n",
              "       [[1.330001  ]],\n",
              "\n",
              "       [[1.0668961 ]],\n",
              "\n",
              "       [[0.79061425]],\n",
              "\n",
              "       [[0.4201532 ]],\n",
              "\n",
              "       [[0.22918475]],\n",
              "\n",
              "       [[0.04416052]],\n",
              "\n",
              "       [[0.8569713 ]],\n",
              "\n",
              "       [[1.3328612 ]],\n",
              "\n",
              "       [[1.0852659 ]],\n",
              "\n",
              "       [[0.16185749]],\n",
              "\n",
              "       [[0.42306164]]], dtype=float32)"
            ]
          },
          "metadata": {
            "tags": []
          },
          "execution_count": 30
        }
      ]
    },
    {
      "cell_type": "code",
      "metadata": {
        "id": "BHtRxBmaonbz"
      },
      "source": [
        "pred_boot_mse = np.squeeze(pred_boot_mse, -1)"
      ],
      "execution_count": null,
      "outputs": []
    },
    {
      "cell_type": "code",
      "metadata": {
        "id": "qqBLMSY3cA-x"
      },
      "source": [
        "pred_boot_mse = ((Max_test[:, :, 7] - Min_test[:, :, 7]) * pred_boot_mse) + Min_test[:, :, 7]"
      ],
      "execution_count": null,
      "outputs": []
    },
    {
      "cell_type": "code",
      "metadata": {
        "id": "d6CQqKc96_m3"
      },
      "source": [
        "pd.DataFrame(pred_boot_mse).to_csv(\"/content/drive/MyDrive/paper/distance_imexport/PredictionData_boot_distance_imexport_w3day_mse.csv\")\n",
        "pd.DataFrame(y_test).to_csv(\"/content/drive/MyDrive/paper/distance_imexport/TrueData_boot_distance_imexport_w3day.csv\")"
      ],
      "execution_count": null,
      "outputs": []
    },
    {
      "cell_type": "code",
      "metadata": {
        "id": "y9GhSyr1vqY2"
      },
      "source": [
        "def get_model_mae(param):\n",
        "    \n",
        "    inp = Input((window_shape,len(cols)))\n",
        "    enc = LSTM(param['lstm_unit'], activation=param['lstm_act'], \n",
        "               return_sequences=False)(inp)\n",
        "    x = RepeatVector(time_h)(enc)\n",
        "    \n",
        "    out = Dense(1)(x)\n",
        "    \n",
        "    model = Model(inp, out)\n",
        "    model.compile(Adam(lr=param['lr']), 'mae')\n",
        "    \n",
        "    return model"
      ],
      "execution_count": null,
      "outputs": []
    },
    {
      "cell_type": "code",
      "metadata": {
        "id": "WzWIC5_ZOzxs",
        "colab": {
          "base_uri": "https://localhost:8080/"
        },
        "outputId": "756b4ca6-56b7-43d5-e7e1-3c1f60124472"
      },
      "source": [
        "hypermodel_mae = get_model_mae\n",
        "kgs_mae = KerasGridSearch(hypermodel_mae, param_grid, monitor='val_loss', greater_is_better=False, tuner_verbose=1)\n",
        "kgs_mae.search(X_train, y_train, validation_data=(X_val, y_val), callbacks=[es])"
      ],
      "execution_count": null,
      "outputs": [
        {
          "output_type": "stream",
          "text": [
            "\n",
            "12 trials detected for ('lstm_unit', 'lstm_act', 'lr', 'epochs', 'batch_size')\n",
            "\n",
            "***** (1/12) *****\n",
            "Search({'lstm_unit': 128, 'lstm_act': 'tanh', 'lr': 0.0001, 'epochs': 100, 'batch_size': 16})\n"
          ],
          "name": "stdout"
        },
        {
          "output_type": "stream",
          "text": [
            "/usr/local/lib/python3.7/dist-packages/tensorflow/python/keras/optimizer_v2/optimizer_v2.py:375: UserWarning: The `lr` argument is deprecated, use `learning_rate` instead.\n",
            "  \"The `lr` argument is deprecated, use `learning_rate` instead.\")\n"
          ],
          "name": "stderr"
        },
        {
          "output_type": "stream",
          "text": [
            "Restoring model weights from the end of the best epoch.\n",
            "Epoch 00091: early stopping\n",
            "SCORE: 0.9851 at epoch 91\n",
            "\n",
            "***** (2/12) *****\n",
            "Search({'lstm_unit': 128, 'lstm_act': 'tanh', 'lr': 0.0001, 'epochs': 100, 'batch_size': 32})\n",
            "SCORE: 0.98863 at epoch 100\n",
            "\n",
            "***** (3/12) *****\n",
            "Search({'lstm_unit': 128, 'lstm_act': 'tanh', 'lr': 0.0001, 'epochs': 100, 'batch_size': 128})\n",
            "SCORE: 1.00292 at epoch 100\n",
            "\n",
            "***** (4/12) *****\n",
            "Search({'lstm_unit': 128, 'lstm_act': 'tanh', 'lr': 0.001, 'epochs': 100, 'batch_size': 16})\n",
            "Restoring model weights from the end of the best epoch.\n",
            "Epoch 00054: early stopping\n",
            "SCORE: 0.97378 at epoch 54\n",
            "\n",
            "***** (5/12) *****\n",
            "Search({'lstm_unit': 128, 'lstm_act': 'tanh', 'lr': 0.001, 'epochs': 100, 'batch_size': 32})\n",
            "Restoring model weights from the end of the best epoch.\n",
            "Epoch 00055: early stopping\n",
            "SCORE: 0.97778 at epoch 53\n",
            "\n",
            "***** (6/12) *****\n",
            "Search({'lstm_unit': 128, 'lstm_act': 'tanh', 'lr': 0.001, 'epochs': 100, 'batch_size': 128})\n",
            "Restoring model weights from the end of the best epoch.\n",
            "Epoch 00090: early stopping\n",
            "SCORE: 0.97997 at epoch 90\n",
            "\n",
            "***** (7/12) *****\n",
            "Search({'lstm_unit': 64, 'lstm_act': 'tanh', 'lr': 0.0001, 'epochs': 100, 'batch_size': 16})\n",
            "SCORE: 0.99465 at epoch 100\n",
            "\n",
            "***** (8/12) *****\n",
            "Search({'lstm_unit': 64, 'lstm_act': 'tanh', 'lr': 0.0001, 'epochs': 100, 'batch_size': 32})\n",
            "SCORE: 0.99541 at epoch 100\n",
            "\n",
            "***** (9/12) *****\n",
            "Search({'lstm_unit': 64, 'lstm_act': 'tanh', 'lr': 0.0001, 'epochs': 100, 'batch_size': 128})\n",
            "SCORE: 1.01929 at epoch 100\n",
            "\n",
            "***** (10/12) *****\n",
            "Search({'lstm_unit': 64, 'lstm_act': 'tanh', 'lr': 0.001, 'epochs': 100, 'batch_size': 16})\n",
            "Restoring model weights from the end of the best epoch.\n",
            "Epoch 00050: early stopping\n",
            "SCORE: 0.97593 at epoch 47\n",
            "\n",
            "***** (11/12) *****\n",
            "Search({'lstm_unit': 64, 'lstm_act': 'tanh', 'lr': 0.001, 'epochs': 100, 'batch_size': 32})\n",
            "Restoring model weights from the end of the best epoch.\n",
            "Epoch 00072: early stopping\n",
            "SCORE: 0.98006 at epoch 72\n",
            "\n",
            "***** (12/12) *****\n",
            "Search({'lstm_unit': 64, 'lstm_act': 'tanh', 'lr': 0.001, 'epochs': 100, 'batch_size': 128})\n",
            "Restoring model weights from the end of the best epoch.\n",
            "Epoch 00076: early stopping\n",
            "SCORE: 0.98503 at epoch 76\n"
          ],
          "name": "stdout"
        },
        {
          "output_type": "execute_result",
          "data": {
            "text/plain": [
              "<kerashypetune.KerasGridSearch>"
            ]
          },
          "metadata": {
            "tags": []
          },
          "execution_count": 35
        }
      ]
    },
    {
      "cell_type": "code",
      "metadata": {
        "id": "G_6JRFCvO3hV",
        "colab": {
          "base_uri": "https://localhost:8080/"
        },
        "outputId": "a86ab039-d2c5-41a6-8c3d-79e9902d34c8"
      },
      "source": [
        "pred_boot_mae = kgs_mae.best_model.predict(X_test)\n",
        "pred_boot_mae"
      ],
      "execution_count": null,
      "outputs": [
        {
          "output_type": "execute_result",
          "data": {
            "text/plain": [
              "array([[[0.83084434]],\n",
              "\n",
              "       [[0.5125984 ]],\n",
              "\n",
              "       [[0.53831464]],\n",
              "\n",
              "       [[0.30035222]],\n",
              "\n",
              "       [[0.7634144 ]],\n",
              "\n",
              "       [[1.3354348 ]],\n",
              "\n",
              "       [[0.285991  ]],\n",
              "\n",
              "       [[0.12434669]],\n",
              "\n",
              "       [[0.6625442 ]],\n",
              "\n",
              "       [[0.41191941]],\n",
              "\n",
              "       [[0.13189478]],\n",
              "\n",
              "       [[0.27342826]],\n",
              "\n",
              "       [[0.85324293]],\n",
              "\n",
              "       [[1.0874852 ]],\n",
              "\n",
              "       [[0.84504277]],\n",
              "\n",
              "       [[0.2370566 ]],\n",
              "\n",
              "       [[0.17952996]],\n",
              "\n",
              "       [[0.30579737]],\n",
              "\n",
              "       [[0.21672943]],\n",
              "\n",
              "       [[0.7474523 ]],\n",
              "\n",
              "       [[0.89012605]],\n",
              "\n",
              "       [[0.8700822 ]],\n",
              "\n",
              "       [[0.6036259 ]],\n",
              "\n",
              "       [[0.21821614]],\n",
              "\n",
              "       [[0.36439383]],\n",
              "\n",
              "       [[0.8136838 ]],\n",
              "\n",
              "       [[1.1640931 ]],\n",
              "\n",
              "       [[1.187652  ]],\n",
              "\n",
              "       [[0.5094156 ]],\n",
              "\n",
              "       [[0.25672394]],\n",
              "\n",
              "       [[0.38477203]],\n",
              "\n",
              "       [[0.21965517]],\n",
              "\n",
              "       [[0.49996555]],\n",
              "\n",
              "       [[1.0859311 ]],\n",
              "\n",
              "       [[0.9535663 ]],\n",
              "\n",
              "       [[1.0052238 ]],\n",
              "\n",
              "       [[0.4081611 ]],\n",
              "\n",
              "       [[0.3442644 ]],\n",
              "\n",
              "       [[0.18400094]],\n",
              "\n",
              "       [[0.46967506]],\n",
              "\n",
              "       [[1.1133535 ]],\n",
              "\n",
              "       [[1.0447452 ]],\n",
              "\n",
              "       [[0.6472158 ]],\n",
              "\n",
              "       [[0.97683036]],\n",
              "\n",
              "       [[0.38804716]],\n",
              "\n",
              "       [[0.12551545]],\n",
              "\n",
              "       [[0.56267077]],\n",
              "\n",
              "       [[1.3065127 ]],\n",
              "\n",
              "       [[1.1746124 ]],\n",
              "\n",
              "       [[0.69478846]],\n",
              "\n",
              "       [[1.0189155 ]],\n",
              "\n",
              "       [[0.704572  ]],\n",
              "\n",
              "       [[0.2721227 ]],\n",
              "\n",
              "       [[1.0216795 ]],\n",
              "\n",
              "       [[1.3029372 ]],\n",
              "\n",
              "       [[1.1205637 ]],\n",
              "\n",
              "       [[0.8133483 ]],\n",
              "\n",
              "       [[0.4492663 ]],\n",
              "\n",
              "       [[0.3698286 ]],\n",
              "\n",
              "       [[0.0909565 ]],\n",
              "\n",
              "       [[0.06576088]],\n",
              "\n",
              "       [[1.0257866 ]],\n",
              "\n",
              "       [[1.2089316 ]],\n",
              "\n",
              "       [[1.1123321 ]],\n",
              "\n",
              "       [[0.6588287 ]],\n",
              "\n",
              "       [[0.26488736]],\n",
              "\n",
              "       [[0.14808556]],\n",
              "\n",
              "       [[0.16393875]],\n",
              "\n",
              "       [[0.89798576]],\n",
              "\n",
              "       [[1.2263731 ]],\n",
              "\n",
              "       [[0.9171624 ]],\n",
              "\n",
              "       [[0.9053045 ]],\n",
              "\n",
              "       [[0.46948254]],\n",
              "\n",
              "       [[0.25889486]],\n",
              "\n",
              "       [[0.02779213]],\n",
              "\n",
              "       [[0.634133  ]],\n",
              "\n",
              "       [[1.1376156 ]],\n",
              "\n",
              "       [[1.0222574 ]],\n",
              "\n",
              "       [[0.09651728]],\n",
              "\n",
              "       [[0.4209953 ]]], dtype=float32)"
            ]
          },
          "metadata": {
            "tags": []
          },
          "execution_count": 36
        }
      ]
    },
    {
      "cell_type": "code",
      "metadata": {
        "id": "V4qioMKsO-19"
      },
      "source": [
        "pred_boot_mae = np.squeeze(pred_boot_mae, -1)"
      ],
      "execution_count": null,
      "outputs": []
    },
    {
      "cell_type": "code",
      "metadata": {
        "id": "lnyK_q_5PCFx"
      },
      "source": [
        "pred_boot_mae = ((Max_test[:, :, 7] - Min_test[:, :, 7]) * pred_boot_mae) + Min_test[:, :, 7]"
      ],
      "execution_count": null,
      "outputs": []
    },
    {
      "cell_type": "code",
      "metadata": {
        "id": "cIE9skaCPD_Y"
      },
      "source": [
        "pd.DataFrame(pred_boot_mae).to_csv(\"/content/drive/MyDrive/paper/distance_imexport/PredictionData_boot_distance_imexport_w3day_mae.csv\")"
      ],
      "execution_count": null,
      "outputs": []
    },
    {
      "cell_type": "code",
      "metadata": {
        "id": "_xeQ_-tUwVBq",
        "colab": {
          "base_uri": "https://localhost:8080/"
        },
        "outputId": "fdcee02a-e02c-45a6-b357-b3cb361aef14"
      },
      "source": [
        "kgs_mae.best_model.save(\"/content/drive/MyDrive/paper/feature_importance/distance_imexport/Data_augmentation/w3day\")"
      ],
      "execution_count": null,
      "outputs": [
        {
          "output_type": "stream",
          "text": [
            "INFO:tensorflow:Assets written to: /content/drive/MyDrive/paper/feature_importance/distance_imexport/Data_augmentation/w3day/assets\n"
          ],
          "name": "stdout"
        }
      ]
    },
    {
      "cell_type": "code",
      "metadata": {
        "id": "hhSXwLaTwVHo"
      },
      "source": [
        "with open('/content/drive/MyDrive/paper/feature_importance/distance_imexport/Data_augmentation/w3day/X_test_distance_imexport_w3day.pkl', 'wb') as f:\n",
        "    pickle.dump(X_test, f)\n",
        "with open('/content/drive/MyDrive/paper/feature_importance/distance_imexport/Data_augmentation/w3day/cols_distance_imexport_w3day.pkl', 'wb') as f:\n",
        "    pickle.dump(cols, f)"
      ],
      "execution_count": null,
      "outputs": []
    }
  ]
}